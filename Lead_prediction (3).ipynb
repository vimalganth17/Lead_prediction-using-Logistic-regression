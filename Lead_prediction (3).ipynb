{
 "cells": [
  {
   "cell_type": "code",
   "execution_count": 1,
   "id": "09c5642a",
   "metadata": {},
   "outputs": [],
   "source": [
    "import pandas as pd\n",
    "import numpy as np\n",
    "import matplotlib.pyplot as plt\n",
    "import seaborn as sns\n",
    "import warnings\n",
    "warnings.filterwarnings(\"ignore\")"
   ]
  },
  {
   "cell_type": "code",
   "execution_count": 2,
   "id": "e49081ec",
   "metadata": {},
   "outputs": [],
   "source": [
    "lead = pd.read_csv(\"Lead Scoring.csv\", encoding='latin-1')\n"
   ]
  },
  {
   "cell_type": "code",
   "execution_count": 3,
   "id": "b160c115",
   "metadata": {},
   "outputs": [
    {
     "data": {
      "text/html": [
       "<div>\n",
       "<style scoped>\n",
       "    .dataframe tbody tr th:only-of-type {\n",
       "        vertical-align: middle;\n",
       "    }\n",
       "\n",
       "    .dataframe tbody tr th {\n",
       "        vertical-align: top;\n",
       "    }\n",
       "\n",
       "    .dataframe thead th {\n",
       "        text-align: right;\n",
       "    }\n",
       "</style>\n",
       "<table border=\"1\" class=\"dataframe\">\n",
       "  <thead>\n",
       "    <tr style=\"text-align: right;\">\n",
       "      <th></th>\n",
       "      <th>Prospect ID</th>\n",
       "      <th>Lead Number</th>\n",
       "      <th>Lead Origin</th>\n",
       "      <th>Lead Source</th>\n",
       "      <th>Do Not Email</th>\n",
       "      <th>Do Not Call</th>\n",
       "      <th>Converted</th>\n",
       "      <th>TotalVisits</th>\n",
       "      <th>Total Time Spent on Website</th>\n",
       "      <th>Page Views Per Visit</th>\n",
       "      <th>...</th>\n",
       "      <th>Get updates on DM Content</th>\n",
       "      <th>Lead Profile</th>\n",
       "      <th>City</th>\n",
       "      <th>Asymmetrique Activity Index</th>\n",
       "      <th>Asymmetrique Profile Index</th>\n",
       "      <th>Asymmetrique Activity Score</th>\n",
       "      <th>Asymmetrique Profile Score</th>\n",
       "      <th>I agree to pay the amount through cheque</th>\n",
       "      <th>A free copy of Mastering The Interview</th>\n",
       "      <th>Last Notable Activity</th>\n",
       "    </tr>\n",
       "  </thead>\n",
       "  <tbody>\n",
       "    <tr>\n",
       "      <th>0</th>\n",
       "      <td>7927b2df-8bba-4d29-b9a2-b6e0beafe620</td>\n",
       "      <td>660737</td>\n",
       "      <td>API</td>\n",
       "      <td>Olark Chat</td>\n",
       "      <td>No</td>\n",
       "      <td>No</td>\n",
       "      <td>0</td>\n",
       "      <td>0.0</td>\n",
       "      <td>0</td>\n",
       "      <td>0.0</td>\n",
       "      <td>...</td>\n",
       "      <td>No</td>\n",
       "      <td>Select</td>\n",
       "      <td>Select</td>\n",
       "      <td>02.Medium</td>\n",
       "      <td>02.Medium</td>\n",
       "      <td>15.0</td>\n",
       "      <td>15.0</td>\n",
       "      <td>No</td>\n",
       "      <td>No</td>\n",
       "      <td>Modified</td>\n",
       "    </tr>\n",
       "    <tr>\n",
       "      <th>1</th>\n",
       "      <td>2a272436-5132-4136-86fa-dcc88c88f482</td>\n",
       "      <td>660728</td>\n",
       "      <td>API</td>\n",
       "      <td>Organic Search</td>\n",
       "      <td>No</td>\n",
       "      <td>No</td>\n",
       "      <td>0</td>\n",
       "      <td>5.0</td>\n",
       "      <td>674</td>\n",
       "      <td>2.5</td>\n",
       "      <td>...</td>\n",
       "      <td>No</td>\n",
       "      <td>Select</td>\n",
       "      <td>Select</td>\n",
       "      <td>02.Medium</td>\n",
       "      <td>02.Medium</td>\n",
       "      <td>15.0</td>\n",
       "      <td>15.0</td>\n",
       "      <td>No</td>\n",
       "      <td>No</td>\n",
       "      <td>Email Opened</td>\n",
       "    </tr>\n",
       "    <tr>\n",
       "      <th>2</th>\n",
       "      <td>8cc8c611-a219-4f35-ad23-fdfd2656bd8a</td>\n",
       "      <td>660727</td>\n",
       "      <td>Landing Page Submission</td>\n",
       "      <td>Direct Traffic</td>\n",
       "      <td>No</td>\n",
       "      <td>No</td>\n",
       "      <td>1</td>\n",
       "      <td>2.0</td>\n",
       "      <td>1532</td>\n",
       "      <td>2.0</td>\n",
       "      <td>...</td>\n",
       "      <td>No</td>\n",
       "      <td>Potential Lead</td>\n",
       "      <td>Mumbai</td>\n",
       "      <td>02.Medium</td>\n",
       "      <td>01.High</td>\n",
       "      <td>14.0</td>\n",
       "      <td>20.0</td>\n",
       "      <td>No</td>\n",
       "      <td>Yes</td>\n",
       "      <td>Email Opened</td>\n",
       "    </tr>\n",
       "    <tr>\n",
       "      <th>3</th>\n",
       "      <td>0cc2df48-7cf4-4e39-9de9-19797f9b38cc</td>\n",
       "      <td>660719</td>\n",
       "      <td>Landing Page Submission</td>\n",
       "      <td>Direct Traffic</td>\n",
       "      <td>No</td>\n",
       "      <td>No</td>\n",
       "      <td>0</td>\n",
       "      <td>1.0</td>\n",
       "      <td>305</td>\n",
       "      <td>1.0</td>\n",
       "      <td>...</td>\n",
       "      <td>No</td>\n",
       "      <td>Select</td>\n",
       "      <td>Mumbai</td>\n",
       "      <td>02.Medium</td>\n",
       "      <td>01.High</td>\n",
       "      <td>13.0</td>\n",
       "      <td>17.0</td>\n",
       "      <td>No</td>\n",
       "      <td>No</td>\n",
       "      <td>Modified</td>\n",
       "    </tr>\n",
       "    <tr>\n",
       "      <th>4</th>\n",
       "      <td>3256f628-e534-4826-9d63-4a8b88782852</td>\n",
       "      <td>660681</td>\n",
       "      <td>Landing Page Submission</td>\n",
       "      <td>Google</td>\n",
       "      <td>No</td>\n",
       "      <td>No</td>\n",
       "      <td>1</td>\n",
       "      <td>2.0</td>\n",
       "      <td>1428</td>\n",
       "      <td>1.0</td>\n",
       "      <td>...</td>\n",
       "      <td>No</td>\n",
       "      <td>Select</td>\n",
       "      <td>Mumbai</td>\n",
       "      <td>02.Medium</td>\n",
       "      <td>01.High</td>\n",
       "      <td>15.0</td>\n",
       "      <td>18.0</td>\n",
       "      <td>No</td>\n",
       "      <td>No</td>\n",
       "      <td>Modified</td>\n",
       "    </tr>\n",
       "  </tbody>\n",
       "</table>\n",
       "<p>5 rows × 37 columns</p>\n",
       "</div>"
      ],
      "text/plain": [
       "                            Prospect ID  Lead Number              Lead Origin  \\\n",
       "0  7927b2df-8bba-4d29-b9a2-b6e0beafe620       660737                      API   \n",
       "1  2a272436-5132-4136-86fa-dcc88c88f482       660728                      API   \n",
       "2  8cc8c611-a219-4f35-ad23-fdfd2656bd8a       660727  Landing Page Submission   \n",
       "3  0cc2df48-7cf4-4e39-9de9-19797f9b38cc       660719  Landing Page Submission   \n",
       "4  3256f628-e534-4826-9d63-4a8b88782852       660681  Landing Page Submission   \n",
       "\n",
       "      Lead Source Do Not Email Do Not Call  Converted  TotalVisits  \\\n",
       "0      Olark Chat           No          No          0          0.0   \n",
       "1  Organic Search           No          No          0          5.0   \n",
       "2  Direct Traffic           No          No          1          2.0   \n",
       "3  Direct Traffic           No          No          0          1.0   \n",
       "4          Google           No          No          1          2.0   \n",
       "\n",
       "   Total Time Spent on Website  Page Views Per Visit  ...  \\\n",
       "0                            0                   0.0  ...   \n",
       "1                          674                   2.5  ...   \n",
       "2                         1532                   2.0  ...   \n",
       "3                          305                   1.0  ...   \n",
       "4                         1428                   1.0  ...   \n",
       "\n",
       "  Get updates on DM Content    Lead Profile    City  \\\n",
       "0                        No          Select  Select   \n",
       "1                        No          Select  Select   \n",
       "2                        No  Potential Lead  Mumbai   \n",
       "3                        No          Select  Mumbai   \n",
       "4                        No          Select  Mumbai   \n",
       "\n",
       "  Asymmetrique Activity Index Asymmetrique Profile Index  \\\n",
       "0                   02.Medium                  02.Medium   \n",
       "1                   02.Medium                  02.Medium   \n",
       "2                   02.Medium                    01.High   \n",
       "3                   02.Medium                    01.High   \n",
       "4                   02.Medium                    01.High   \n",
       "\n",
       "  Asymmetrique Activity Score Asymmetrique Profile Score  \\\n",
       "0                        15.0                       15.0   \n",
       "1                        15.0                       15.0   \n",
       "2                        14.0                       20.0   \n",
       "3                        13.0                       17.0   \n",
       "4                        15.0                       18.0   \n",
       "\n",
       "  I agree to pay the amount through cheque  \\\n",
       "0                                       No   \n",
       "1                                       No   \n",
       "2                                       No   \n",
       "3                                       No   \n",
       "4                                       No   \n",
       "\n",
       "  A free copy of Mastering The Interview Last Notable Activity  \n",
       "0                                     No              Modified  \n",
       "1                                     No          Email Opened  \n",
       "2                                    Yes          Email Opened  \n",
       "3                                     No              Modified  \n",
       "4                                     No              Modified  \n",
       "\n",
       "[5 rows x 37 columns]"
      ]
     },
     "execution_count": 3,
     "metadata": {},
     "output_type": "execute_result"
    }
   ],
   "source": [
    "lead.head()"
   ]
  },
  {
   "cell_type": "code",
   "execution_count": 4,
   "id": "5e36970d",
   "metadata": {},
   "outputs": [
    {
     "name": "stdout",
     "output_type": "stream",
     "text": [
      "<class 'pandas.core.frame.DataFrame'>\n",
      "RangeIndex: 9240 entries, 0 to 9239\n",
      "Data columns (total 37 columns):\n",
      " #   Column                                         Non-Null Count  Dtype  \n",
      "---  ------                                         --------------  -----  \n",
      " 0   Prospect ID                                    9240 non-null   object \n",
      " 1   Lead Number                                    9240 non-null   int64  \n",
      " 2   Lead Origin                                    9240 non-null   object \n",
      " 3   Lead Source                                    9204 non-null   object \n",
      " 4   Do Not Email                                   9240 non-null   object \n",
      " 5   Do Not Call                                    9240 non-null   object \n",
      " 6   Converted                                      9240 non-null   int64  \n",
      " 7   TotalVisits                                    9103 non-null   float64\n",
      " 8   Total Time Spent on Website                    9240 non-null   int64  \n",
      " 9   Page Views Per Visit                           9103 non-null   float64\n",
      " 10  Last Activity                                  9137 non-null   object \n",
      " 11  Country                                        6779 non-null   object \n",
      " 12  Specialization                                 7802 non-null   object \n",
      " 13  How did you hear about X Education             7033 non-null   object \n",
      " 14  What is your current occupation                6550 non-null   object \n",
      " 15  What matters most to you in choosing a course  6531 non-null   object \n",
      " 16  Search                                         9240 non-null   object \n",
      " 17  Magazine                                       9240 non-null   object \n",
      " 18  Newspaper Article                              9240 non-null   object \n",
      " 19  X Education Forums                             9240 non-null   object \n",
      " 20  Newspaper                                      9240 non-null   object \n",
      " 21  Digital Advertisement                          9240 non-null   object \n",
      " 22  Through Recommendations                        9240 non-null   object \n",
      " 23  Receive More Updates About Our Courses         9240 non-null   object \n",
      " 24  Tags                                           5887 non-null   object \n",
      " 25  Lead Quality                                   4473 non-null   object \n",
      " 26  Update me on Supply Chain Content              9240 non-null   object \n",
      " 27  Get updates on DM Content                      9240 non-null   object \n",
      " 28  Lead Profile                                   6531 non-null   object \n",
      " 29  City                                           7820 non-null   object \n",
      " 30  Asymmetrique Activity Index                    5022 non-null   object \n",
      " 31  Asymmetrique Profile Index                     5022 non-null   object \n",
      " 32  Asymmetrique Activity Score                    5022 non-null   float64\n",
      " 33  Asymmetrique Profile Score                     5022 non-null   float64\n",
      " 34  I agree to pay the amount through cheque       9240 non-null   object \n",
      " 35  A free copy of Mastering The Interview         9240 non-null   object \n",
      " 36  Last Notable Activity                          9240 non-null   object \n",
      "dtypes: float64(4), int64(3), object(30)\n",
      "memory usage: 2.6+ MB\n"
     ]
    }
   ],
   "source": [
    "lead.info()"
   ]
  },
  {
   "cell_type": "code",
   "execution_count": 5,
   "id": "31a99342",
   "metadata": {},
   "outputs": [
    {
     "data": {
      "text/plain": [
       "(9240, 37)"
      ]
     },
     "execution_count": 5,
     "metadata": {},
     "output_type": "execute_result"
    }
   ],
   "source": [
    "lead.shape"
   ]
  },
  {
   "cell_type": "code",
   "execution_count": 6,
   "id": "c4e52cc3",
   "metadata": {},
   "outputs": [
    {
     "data": {
      "text/plain": [
       "9240"
      ]
     },
     "execution_count": 6,
     "metadata": {},
     "output_type": "execute_result"
    }
   ],
   "source": [
    "len(lead)"
   ]
  },
  {
   "cell_type": "code",
   "execution_count": 7,
   "id": "d9f70b43",
   "metadata": {},
   "outputs": [
    {
     "data": {
      "text/plain": [
       "Index(['Prospect ID', 'Lead Number', 'Lead Origin', 'Lead Source',\n",
       "       'Do Not Email', 'Do Not Call', 'Converted', 'TotalVisits',\n",
       "       'Total Time Spent on Website', 'Page Views Per Visit', 'Last Activity',\n",
       "       'Country', 'Specialization', 'How did you hear about X Education',\n",
       "       'What is your current occupation',\n",
       "       'What matters most to you in choosing a course', 'Search', 'Magazine',\n",
       "       'Newspaper Article', 'X Education Forums', 'Newspaper',\n",
       "       'Digital Advertisement', 'Through Recommendations',\n",
       "       'Receive More Updates About Our Courses', 'Tags', 'Lead Quality',\n",
       "       'Update me on Supply Chain Content', 'Get updates on DM Content',\n",
       "       'Lead Profile', 'City', 'Asymmetrique Activity Index',\n",
       "       'Asymmetrique Profile Index', 'Asymmetrique Activity Score',\n",
       "       'Asymmetrique Profile Score',\n",
       "       'I agree to pay the amount through cheque',\n",
       "       'A free copy of Mastering The Interview', 'Last Notable Activity'],\n",
       "      dtype='object')"
      ]
     },
     "execution_count": 7,
     "metadata": {},
     "output_type": "execute_result"
    }
   ],
   "source": [
    "lead.columns"
   ]
  },
  {
   "cell_type": "code",
   "execution_count": 8,
   "id": "a0762deb",
   "metadata": {},
   "outputs": [
    {
     "data": {
      "text/plain": [
       "Prospect ID                                       object\n",
       "Lead Number                                        int64\n",
       "Lead Origin                                       object\n",
       "Lead Source                                       object\n",
       "Do Not Email                                      object\n",
       "Do Not Call                                       object\n",
       "Converted                                          int64\n",
       "TotalVisits                                      float64\n",
       "Total Time Spent on Website                        int64\n",
       "Page Views Per Visit                             float64\n",
       "Last Activity                                     object\n",
       "Country                                           object\n",
       "Specialization                                    object\n",
       "How did you hear about X Education                object\n",
       "What is your current occupation                   object\n",
       "What matters most to you in choosing a course     object\n",
       "Search                                            object\n",
       "Magazine                                          object\n",
       "Newspaper Article                                 object\n",
       "X Education Forums                                object\n",
       "Newspaper                                         object\n",
       "Digital Advertisement                             object\n",
       "Through Recommendations                           object\n",
       "Receive More Updates About Our Courses            object\n",
       "Tags                                              object\n",
       "Lead Quality                                      object\n",
       "Update me on Supply Chain Content                 object\n",
       "Get updates on DM Content                         object\n",
       "Lead Profile                                      object\n",
       "City                                              object\n",
       "Asymmetrique Activity Index                       object\n",
       "Asymmetrique Profile Index                        object\n",
       "Asymmetrique Activity Score                      float64\n",
       "Asymmetrique Profile Score                       float64\n",
       "I agree to pay the amount through cheque          object\n",
       "A free copy of Mastering The Interview            object\n",
       "Last Notable Activity                             object\n",
       "dtype: object"
      ]
     },
     "execution_count": 8,
     "metadata": {},
     "output_type": "execute_result"
    }
   ],
   "source": [
    "lead.dtypes"
   ]
  },
  {
   "cell_type": "code",
   "execution_count": 9,
   "id": "143eb9a5",
   "metadata": {},
   "outputs": [
    {
     "data": {
      "text/plain": [
       "0"
      ]
     },
     "execution_count": 9,
     "metadata": {},
     "output_type": "execute_result"
    }
   ],
   "source": [
    "lead[\"Prospect ID\"].duplicated().sum()"
   ]
  },
  {
   "cell_type": "code",
   "execution_count": 10,
   "id": "54c8262d",
   "metadata": {},
   "outputs": [
    {
     "data": {
      "text/plain": [
       "<Axes: xlabel='Converted', ylabel='count'>"
      ]
     },
     "execution_count": 10,
     "metadata": {},
     "output_type": "execute_result"
    },
    {
     "data": {
      "image/png": "[encoded data removed]",
      "text/plain": [
       "<Figure size 640x480 with 1 Axes>"
      ]
     },
     "metadata": {},
     "output_type": "display_data"
    }
   ],
   "source": [
    "sns.countplot(data=lead, x='Converted')\n"
   ]
  },
  {
   "cell_type": "code",
   "execution_count": 11,
   "id": "755c27f4",
   "metadata": {
    "scrolled": true
   },
   "outputs": [
    {
     "data": {
      "text/plain": [
       "Lead Quality                                     4767\n",
       "Asymmetrique Activity Index                      4218\n",
       "Asymmetrique Profile Score                       4218\n",
       "Asymmetrique Activity Score                      4218\n",
       "Asymmetrique Profile Index                       4218\n",
       "Tags                                             3353\n",
       "Lead Profile                                     2709\n",
       "What matters most to you in choosing a course    2709\n",
       "What is your current occupation                  2690\n",
       "Country                                          2461\n",
       "How did you hear about X Education               2207\n",
       "Specialization                                   1438\n",
       "City                                             1420\n",
       "Page Views Per Visit                              137\n",
       "TotalVisits                                       137\n",
       "Last Activity                                     103\n",
       "Lead Source                                        36\n",
       "Receive More Updates About Our Courses              0\n",
       "I agree to pay the amount through cheque            0\n",
       "Get updates on DM Content                           0\n",
       "Update me on Supply Chain Content                   0\n",
       "A free copy of Mastering The Interview              0\n",
       "Prospect ID                                         0\n",
       "Newspaper Article                                   0\n",
       "Through Recommendations                             0\n",
       "Digital Advertisement                               0\n",
       "Newspaper                                           0\n",
       "X Education Forums                                  0\n",
       "Lead Number                                         0\n",
       "Magazine                                            0\n",
       "Search                                              0\n",
       "Total Time Spent on Website                         0\n",
       "Converted                                           0\n",
       "Do Not Call                                         0\n",
       "Do Not Email                                        0\n",
       "Lead Origin                                         0\n",
       "Last Notable Activity                               0\n",
       "dtype: int64"
      ]
     },
     "execution_count": 11,
     "metadata": {},
     "output_type": "execute_result"
    }
   ],
   "source": [
    "lead.isna().sum().sort_values(ascending = False)"
   ]
  },
  {
   "cell_type": "code",
   "execution_count": 12,
   "id": "fe011423",
   "metadata": {},
   "outputs": [],
   "source": [
    "for i in lead.columns:\n",
    "    if lead[i].isna().sum()>3000:\n",
    "       lead.drop(i,axis =1,inplace =True)\n",
    "    "
   ]
  },
  {
   "cell_type": "code",
   "execution_count": 13,
   "id": "35d10c96",
   "metadata": {},
   "outputs": [
    {
     "data": {
      "text/plain": [
       "Lead Source\n",
       "Google               2868\n",
       "Direct Traffic       2543\n",
       "Olark Chat           1755\n",
       "Organic Search       1154\n",
       "Reference             534\n",
       "Welingak Website      142\n",
       "Referral Sites        125\n",
       "Facebook               55\n",
       "bing                    6\n",
       "google                  5\n",
       "Click2call              4\n",
       "Press_Release           2\n",
       "Social Media            2\n",
       "Live Chat               2\n",
       "youtubechannel          1\n",
       "testone                 1\n",
       "Pay per Click Ads       1\n",
       "welearnblog_Home        1\n",
       "WeLearn                 1\n",
       "blog                    1\n",
       "NC_EDM                  1\n",
       "Name: count, dtype: int64"
      ]
     },
     "execution_count": 13,
     "metadata": {},
     "output_type": "execute_result"
    }
   ],
   "source": [
    "lead[\"Lead Source\"].value_counts()"
   ]
  },
  {
   "cell_type": "code",
   "execution_count": 14,
   "id": "d9593100",
   "metadata": {},
   "outputs": [],
   "source": [
    "#to fill missing values\n",
    "lead[\"Lead Source\"].fillna(\"Google\",inplace =True)\n",
    "#In 'Lead Source' column, we fill missing values with the most frequent one"
   ]
  },
  {
   "cell_type": "code",
   "execution_count": 15,
   "id": "65ab04cc",
   "metadata": {},
   "outputs": [],
   "source": [
    "lead[\"Lead Source\"] = lead[\"Lead Source\"].str.replace(\"google\",\"Google\")"
   ]
  },
  {
   "cell_type": "code",
   "execution_count": 16,
   "id": "5ef5be61",
   "metadata": {},
   "outputs": [
    {
     "data": {
      "text/plain": [
       "array(['Olark Chat', 'Organic Search', 'Direct Traffic', 'Google',\n",
       "       'Referral Sites', 'Welingak Website', 'Reference', 'Facebook',\n",
       "       'blog', 'Pay per Click Ads', 'bing', 'Social Media', 'WeLearn',\n",
       "       'Click2call', 'Live Chat', 'welearnblog_Home', 'youtubechannel',\n",
       "       'testone', 'Press_Release', 'NC_EDM'], dtype=object)"
      ]
     },
     "execution_count": 16,
     "metadata": {},
     "output_type": "execute_result"
    }
   ],
   "source": [
    "lead[\"Lead Source\"].unique()"
   ]
  },
  {
   "cell_type": "code",
   "execution_count": 17,
   "id": "3e7e7357",
   "metadata": {},
   "outputs": [
    {
     "data": {
      "text/plain": [
       "<Axes: ylabel='Lead Source'>"
      ]
     },
     "execution_count": 17,
     "metadata": {},
     "output_type": "execute_result"
    },
    {
     "data": {
      "image/png": "[encoded data removed]",
      "text/plain": [
       "<Figure size 640x480 with 1 Axes>"
      ]
     },
     "metadata": {},
     "output_type": "display_data"
    }
   ],
   "source": [
    "sns.barplot(lead[\"Lead Source\"])"
   ]
  },
  {
   "cell_type": "code",
   "execution_count": 18,
   "id": "6ec9f661",
   "metadata": {},
   "outputs": [
    {
     "data": {
      "text/plain": [
       "Last Activity\n",
       "Email Opened                    3437\n",
       "SMS Sent                        2745\n",
       "Olark Chat Conversation          973\n",
       "Page Visited on Website          640\n",
       "Converted to Lead                428\n",
       "Email Bounced                    326\n",
       "Email Link Clicked               267\n",
       "Form Submitted on Website        116\n",
       "Unreachable                       93\n",
       "Unsubscribed                      61\n",
       "Had a Phone Conversation          30\n",
       "Approached upfront                 9\n",
       "View in browser link Clicked       6\n",
       "Email Received                     2\n",
       "Email Marked Spam                  2\n",
       "Visited Booth in Tradeshow         1\n",
       "Resubscribed to emails             1\n",
       "Name: count, dtype: int64"
      ]
     },
     "execution_count": 18,
     "metadata": {},
     "output_type": "execute_result"
    }
   ],
   "source": [
    "#Lasd activity\n",
    "\n",
    "lead[\"Last Activity\"].value_counts()"
   ]
  },
  {
   "cell_type": "code",
   "execution_count": 19,
   "id": "804dc65d",
   "metadata": {},
   "outputs": [
    {
     "data": {
      "text/plain": [
       "array(['Page Visited on Website', 'Email Opened', 'Unreachable',\n",
       "       'Converted to Lead', 'Olark Chat Conversation', 'Email Bounced',\n",
       "       'Email Link Clicked', 'Form Submitted on Website', 'Unsubscribed',\n",
       "       'Had a Phone Conversation', 'View in browser link Clicked', nan,\n",
       "       'Approached upfront', 'SMS Sent', 'Visited Booth in Tradeshow',\n",
       "       'Resubscribed to emails', 'Email Received', 'Email Marked Spam'],\n",
       "      dtype=object)"
      ]
     },
     "execution_count": 19,
     "metadata": {},
     "output_type": "execute_result"
    }
   ],
   "source": [
    "lead[\"Last Activity\"].unique()"
   ]
  },
  {
   "cell_type": "markdown",
   "id": "79b8c778",
   "metadata": {},
   "source": [
    "If we don't have information about last activity of leads, let's simply fill that rows with \"Other\"\n",
    "\n"
   ]
  },
  {
   "cell_type": "code",
   "execution_count": 20,
   "id": "9138ae54",
   "metadata": {},
   "outputs": [],
   "source": [
    "lead[\"Last Activity\"].fillna(\"other\",inplace=True)"
   ]
  },
  {
   "cell_type": "code",
   "execution_count": 21,
   "id": "231c4794",
   "metadata": {},
   "outputs": [
    {
     "data": {
      "text/plain": [
       "<Axes: xlabel='count', ylabel='Last Activity'>"
      ]
     },
     "execution_count": 21,
     "metadata": {},
     "output_type": "execute_result"
    },
    {
     "data": {
      "image/png": "[encoded data removed]",
      "text/plain": [
       "<Figure size 640x480 with 1 Axes>"
      ]
     },
     "metadata": {},
     "output_type": "display_data"
    }
   ],
   "source": [
    "sns.countplot(data=lead['Last Activity'])\n"
   ]
  },
  {
   "cell_type": "code",
   "execution_count": 22,
   "id": "e12724bd",
   "metadata": {},
   "outputs": [
    {
     "data": {
      "text/plain": [
       "City\n",
       "Mumbai                         3222\n",
       "Select                         2249\n",
       "Thane & Outskirts               752\n",
       "Other Cities                    686\n",
       "Other Cities of Maharashtra     457\n",
       "Other Metro Cities              380\n",
       "Tier II Cities                   74\n",
       "Name: count, dtype: int64"
      ]
     },
     "execution_count": 22,
     "metadata": {},
     "output_type": "execute_result"
    }
   ],
   "source": [
    "#city\n",
    "lead[\"City\"].value_counts()"
   ]
  },
  {
   "cell_type": "markdown",
   "id": "a68a1fb3",
   "metadata": {},
   "source": [
    "Here some rows named select,those leads havent chosen the city ,and we also have the missing values which we used to fill with \"select\""
   ]
  },
  {
   "cell_type": "code",
   "execution_count": 23,
   "id": "a5ba26ca",
   "metadata": {},
   "outputs": [],
   "source": [
    "lead[\"City\"].fillna(\"Select\",inplace = True)"
   ]
  },
  {
   "cell_type": "code",
   "execution_count": 24,
   "id": "3077937b",
   "metadata": {},
   "outputs": [
    {
     "data": {
      "text/plain": [
       "<Axes: xlabel='count', ylabel='City'>"
      ]
     },
     "execution_count": 24,
     "metadata": {},
     "output_type": "execute_result"
    },
    {
     "data": {
      "image/png": "[encoded data removed]",
      "text/plain": [
       "<Figure size 640x480 with 1 Axes>"
      ]
     },
     "metadata": {},
     "output_type": "display_data"
    }
   ],
   "source": [
    "sns.countplot(data=lead['City'])\n"
   ]
  },
  {
   "cell_type": "code",
   "execution_count": 25,
   "id": "3d4bfe5f",
   "metadata": {},
   "outputs": [
    {
     "data": {
      "text/plain": [
       "Specialization\n",
       "Select                               1942\n",
       "Finance Management                    976\n",
       "Human Resource Management             848\n",
       "Marketing Management                  838\n",
       "Operations Management                 503\n",
       "Business Administration               403\n",
       "IT Projects Management                366\n",
       "Supply Chain Management               349\n",
       "Banking, Investment And Insurance     338\n",
       "Travel and Tourism                    203\n",
       "Media and Advertising                 203\n",
       "International Business                178\n",
       "Healthcare Management                 159\n",
       "Hospitality Management                114\n",
       "E-COMMERCE                            112\n",
       "Retail Management                     100\n",
       "Rural and Agribusiness                 73\n",
       "E-Business                             57\n",
       "Services Excellence                    40\n",
       "Name: count, dtype: int64"
      ]
     },
     "execution_count": 25,
     "metadata": {},
     "output_type": "execute_result"
    }
   ],
   "source": [
    "#Specialization\n",
    "\n",
    "lead[\"Specialization\"].value_counts()"
   ]
  },
  {
   "cell_type": "markdown",
   "id": "e2ff33f6",
   "metadata": {},
   "source": [
    "We see some rows are named \"Select\". Those leads haven'y chosen the specialization, and we also fill missing values with \"Select\"."
   ]
  },
  {
   "cell_type": "code",
   "execution_count": 26,
   "id": "db2bb7c2",
   "metadata": {},
   "outputs": [],
   "source": [
    "lead[\"Specialization\"].fillna(\"Select\",inplace=True)"
   ]
  },
  {
   "cell_type": "code",
   "execution_count": 27,
   "id": "62600d0e",
   "metadata": {},
   "outputs": [
    {
     "data": {
      "text/plain": [
       "<Axes: xlabel='count', ylabel='Specialization'>"
      ]
     },
     "execution_count": 27,
     "metadata": {},
     "output_type": "execute_result"
    },
    {
     "data": {
      "image/png": "[encoded data removed]",
      "text/plain": [
       "<Figure size 640x480 with 1 Axes>"
      ]
     },
     "metadata": {},
     "output_type": "display_data"
    }
   ],
   "source": [
    "sns.countplot(data=lead['Specialization'])\n"
   ]
  },
  {
   "cell_type": "code",
   "execution_count": 28,
   "id": "38e56947",
   "metadata": {},
   "outputs": [
    {
     "data": {
      "text/plain": [
       "How did you hear about X Education\n",
       "Select                   5043\n",
       "Online Search             808\n",
       "Word Of Mouth             348\n",
       "Student of SomeSchool     310\n",
       "Other                     186\n",
       "Multiple Sources          152\n",
       "Advertisements             70\n",
       "Social Media               67\n",
       "Email                      26\n",
       "SMS                        23\n",
       "Name: count, dtype: int64"
      ]
     },
     "execution_count": 28,
     "metadata": {},
     "output_type": "execute_result"
    }
   ],
   "source": [
    "#How did you hear about X education\n",
    "\n",
    "lead[\"How did you hear about X Education\"].value_counts()"
   ]
  },
  {
   "cell_type": "markdown",
   "id": "50b2aa66",
   "metadata": {},
   "source": [
    "We see some rows are named \"Select\". Those leads haven'y chosen the How did you hear about X Education, and we also fill missing values with \"Select\"."
   ]
  },
  {
   "cell_type": "code",
   "execution_count": 29,
   "id": "eddd9404",
   "metadata": {},
   "outputs": [],
   "source": [
    "lead['How did you hear about X Education'].fillna('Select', inplace=True)\n"
   ]
  },
  {
   "cell_type": "code",
   "execution_count": 30,
   "id": "e420085a",
   "metadata": {},
   "outputs": [
    {
     "data": {
      "text/plain": [
       "Country\n",
       "India                   6492\n",
       "United States             69\n",
       "United Arab Emirates      53\n",
       "Singapore                 24\n",
       "Saudi Arabia              21\n",
       "United Kingdom            15\n",
       "Australia                 13\n",
       "Qatar                     10\n",
       "Hong Kong                  7\n",
       "Bahrain                    7\n",
       "Oman                       6\n",
       "France                     6\n",
       "unknown                    5\n",
       "South Africa               4\n",
       "Nigeria                    4\n",
       "Germany                    4\n",
       "Kuwait                     4\n",
       "Canada                     4\n",
       "Sweden                     3\n",
       "China                      2\n",
       "Asia/Pacific Region        2\n",
       "Uganda                     2\n",
       "Bangladesh                 2\n",
       "Italy                      2\n",
       "Belgium                    2\n",
       "Netherlands                2\n",
       "Ghana                      2\n",
       "Philippines                2\n",
       "Russia                     1\n",
       "Switzerland                1\n",
       "Vietnam                    1\n",
       "Denmark                    1\n",
       "Tanzania                   1\n",
       "Liberia                    1\n",
       "Malaysia                   1\n",
       "Kenya                      1\n",
       "Sri Lanka                  1\n",
       "Indonesia                  1\n",
       "Name: count, dtype: int64"
      ]
     },
     "execution_count": 30,
     "metadata": {},
     "output_type": "execute_result"
    }
   ],
   "source": [
    "#Country\n",
    "\n",
    "lead[\"Country\"].value_counts()"
   ]
  },
  {
   "cell_type": "code",
   "execution_count": 31,
   "id": "0a9e242b",
   "metadata": {},
   "outputs": [
    {
     "data": {
      "text/plain": [
       "array(['Select', 'Thane & Outskirts', 'Other Cities of Maharashtra',\n",
       "       'Mumbai', 'Other Cities', 'Other Metro Cities', 'Tier II Cities'],\n",
       "      dtype=object)"
      ]
     },
     "execution_count": 31,
     "metadata": {},
     "output_type": "execute_result"
    }
   ],
   "source": [
    "lead[(lead[\"Country\"].isna())&(lead[\"City\"].isna()==False)][\"City\"].unique()"
   ]
  },
  {
   "cell_type": "markdown",
   "id": "3d5e61b7",
   "metadata": {},
   "source": [
    "We check what values city column have when Country column's variables are missing.\n",
    "\n"
   ]
  },
  {
   "cell_type": "code",
   "execution_count": 32,
   "id": "cffa967d",
   "metadata": {},
   "outputs": [],
   "source": [
    "lead.loc[(lead[\"Country\"].isna())&(lead[\"City\"]==\"Mumbai\"),\"Country\"]=\"India\"\n",
    "          \n",
    "lead.loc[(lead[\"Country\"].isna())&(lead[\"City\"]==\"Other Cities of Maharastra\"),\"Country\"]=\"India\"\n",
    "       \n",
    "lead[\"Country\"].fillna(\"Unknown\",inplace=True)          "
   ]
  },
  {
   "cell_type": "code",
   "execution_count": 33,
   "id": "045d5dcb",
   "metadata": {},
   "outputs": [
    {
     "data": {
      "text/plain": [
       "<Axes: ylabel='count'>"
      ]
     },
     "execution_count": 33,
     "metadata": {},
     "output_type": "execute_result"
    },
    {
     "data": {
      "image/png": "[encoded data removed]",
      "text/plain": [
       "<Figure size 640x480 with 1 Axes>"
      ]
     },
     "metadata": {},
     "output_type": "display_data"
    }
   ],
   "source": [
    "lead[\"Country\"].value_counts().plot(kind='pie', autopct='%1.1f%%', startangle=140)\n"
   ]
  },
  {
   "cell_type": "markdown",
   "id": "7a6471f5",
   "metadata": {},
   "source": [
    "Mumbai and Maharashtra are in India, we can fill that missing rows with India. But for rest we will fill with \"unknown\".\n",
    "\n"
   ]
  },
  {
   "cell_type": "code",
   "execution_count": 34,
   "id": "52492668",
   "metadata": {},
   "outputs": [
    {
     "data": {
      "text/plain": [
       "What is your current occupation\n",
       "Unemployed              5600\n",
       "Working Professional     706\n",
       "Student                  210\n",
       "Other                     16\n",
       "Housewife                 10\n",
       "Businessman                8\n",
       "Name: count, dtype: int64"
      ]
     },
     "execution_count": 34,
     "metadata": {},
     "output_type": "execute_result"
    }
   ],
   "source": [
    "#What is your current occupation\n",
    "\n",
    "lead[\"What is your current occupation\"].value_counts()"
   ]
  },
  {
   "cell_type": "code",
   "execution_count": 35,
   "id": "65c1f203",
   "metadata": {},
   "outputs": [],
   "source": [
    "lead['What is your current occupation'].fillna('Other', inplace=True)\n"
   ]
  },
  {
   "cell_type": "code",
   "execution_count": 36,
   "id": "6fcfd27a",
   "metadata": {},
   "outputs": [
    {
     "data": {
      "text/plain": [
       "Lead Profile\n",
       "Select                         4146\n",
       "Potential Lead                 1613\n",
       "Other Leads                     487\n",
       "Student of SomeSchool           241\n",
       "Lateral Student                  24\n",
       "Dual Specialization Student      20\n",
       "Name: count, dtype: int64"
      ]
     },
     "execution_count": 36,
     "metadata": {},
     "output_type": "execute_result"
    }
   ],
   "source": [
    "#Lead Profile\n",
    "lead['Lead Profile'].value_counts()\n"
   ]
  },
  {
   "cell_type": "code",
   "execution_count": 37,
   "id": "580cee02",
   "metadata": {},
   "outputs": [],
   "source": [
    "lead['Lead Profile'].fillna('Select', inplace=True)\n"
   ]
  },
  {
   "cell_type": "code",
   "execution_count": 38,
   "id": "9e9966f5",
   "metadata": {},
   "outputs": [
    {
     "data": {
      "text/plain": [
       "What matters most to you in choosing a course\n",
       "Better Career Prospects      6528\n",
       "Flexibility & Convenience       2\n",
       "Other                           1\n",
       "Name: count, dtype: int64"
      ]
     },
     "execution_count": 38,
     "metadata": {},
     "output_type": "execute_result"
    }
   ],
   "source": [
    "#What matters most to you in choosing a course\n",
    "lead['What matters most to you in choosing a course'].value_counts()\n"
   ]
  },
  {
   "cell_type": "code",
   "execution_count": 39,
   "id": "6e5dfd36",
   "metadata": {},
   "outputs": [],
   "source": [
    "lead['What matters most to you in choosing a course'].fillna('Other', inplace=True)\n"
   ]
  },
  {
   "cell_type": "code",
   "execution_count": 40,
   "id": "fc4c557d",
   "metadata": {},
   "outputs": [
    {
     "data": {
      "text/html": [
       "<div>\n",
       "<style scoped>\n",
       "    .dataframe tbody tr th:only-of-type {\n",
       "        vertical-align: middle;\n",
       "    }\n",
       "\n",
       "    .dataframe tbody tr th {\n",
       "        vertical-align: top;\n",
       "    }\n",
       "\n",
       "    .dataframe thead th {\n",
       "        text-align: right;\n",
       "    }\n",
       "</style>\n",
       "<table border=\"1\" class=\"dataframe\">\n",
       "  <thead>\n",
       "    <tr style=\"text-align: right;\">\n",
       "      <th></th>\n",
       "      <th>Lead Number</th>\n",
       "      <th>Converted</th>\n",
       "      <th>TotalVisits</th>\n",
       "      <th>Total Time Spent on Website</th>\n",
       "      <th>Page Views Per Visit</th>\n",
       "    </tr>\n",
       "  </thead>\n",
       "  <tbody>\n",
       "    <tr>\n",
       "      <th>count</th>\n",
       "      <td>9240.000000</td>\n",
       "      <td>9240.000000</td>\n",
       "      <td>9103.000000</td>\n",
       "      <td>9240.000000</td>\n",
       "      <td>9103.000000</td>\n",
       "    </tr>\n",
       "    <tr>\n",
       "      <th>mean</th>\n",
       "      <td>617188.435606</td>\n",
       "      <td>0.385390</td>\n",
       "      <td>3.445238</td>\n",
       "      <td>487.698268</td>\n",
       "      <td>2.362820</td>\n",
       "    </tr>\n",
       "    <tr>\n",
       "      <th>std</th>\n",
       "      <td>23405.995698</td>\n",
       "      <td>0.486714</td>\n",
       "      <td>4.854853</td>\n",
       "      <td>548.021466</td>\n",
       "      <td>2.161418</td>\n",
       "    </tr>\n",
       "    <tr>\n",
       "      <th>min</th>\n",
       "      <td>579533.000000</td>\n",
       "      <td>0.000000</td>\n",
       "      <td>0.000000</td>\n",
       "      <td>0.000000</td>\n",
       "      <td>0.000000</td>\n",
       "    </tr>\n",
       "    <tr>\n",
       "      <th>25%</th>\n",
       "      <td>596484.500000</td>\n",
       "      <td>0.000000</td>\n",
       "      <td>1.000000</td>\n",
       "      <td>12.000000</td>\n",
       "      <td>1.000000</td>\n",
       "    </tr>\n",
       "    <tr>\n",
       "      <th>50%</th>\n",
       "      <td>615479.000000</td>\n",
       "      <td>0.000000</td>\n",
       "      <td>3.000000</td>\n",
       "      <td>248.000000</td>\n",
       "      <td>2.000000</td>\n",
       "    </tr>\n",
       "    <tr>\n",
       "      <th>75%</th>\n",
       "      <td>637387.250000</td>\n",
       "      <td>1.000000</td>\n",
       "      <td>5.000000</td>\n",
       "      <td>936.000000</td>\n",
       "      <td>3.000000</td>\n",
       "    </tr>\n",
       "    <tr>\n",
       "      <th>max</th>\n",
       "      <td>660737.000000</td>\n",
       "      <td>1.000000</td>\n",
       "      <td>251.000000</td>\n",
       "      <td>2272.000000</td>\n",
       "      <td>55.000000</td>\n",
       "    </tr>\n",
       "  </tbody>\n",
       "</table>\n",
       "</div>"
      ],
      "text/plain": [
       "         Lead Number    Converted  TotalVisits  Total Time Spent on Website  \\\n",
       "count    9240.000000  9240.000000  9103.000000                  9240.000000   \n",
       "mean   617188.435606     0.385390     3.445238                   487.698268   \n",
       "std     23405.995698     0.486714     4.854853                   548.021466   \n",
       "min    579533.000000     0.000000     0.000000                     0.000000   \n",
       "25%    596484.500000     0.000000     1.000000                    12.000000   \n",
       "50%    615479.000000     0.000000     3.000000                   248.000000   \n",
       "75%    637387.250000     1.000000     5.000000                   936.000000   \n",
       "max    660737.000000     1.000000   251.000000                  2272.000000   \n",
       "\n",
       "       Page Views Per Visit  \n",
       "count           9103.000000  \n",
       "mean               2.362820  \n",
       "std                2.161418  \n",
       "min                0.000000  \n",
       "25%                1.000000  \n",
       "50%                2.000000  \n",
       "75%                3.000000  \n",
       "max               55.000000  "
      ]
     },
     "execution_count": 40,
     "metadata": {},
     "output_type": "execute_result"
    }
   ],
   "source": [
    "#TotalVisits\n",
    "\n",
    "lead.describe()"
   ]
  },
  {
   "cell_type": "code",
   "execution_count": 41,
   "id": "6417f1be",
   "metadata": {},
   "outputs": [],
   "source": [
    "lead['TotalVisits'].fillna(3, inplace=True)"
   ]
  },
  {
   "cell_type": "code",
   "execution_count": 42,
   "id": "33b92bfb",
   "metadata": {
    "scrolled": true
   },
   "outputs": [],
   "source": [
    "#Page Views Per Visit\n",
    "lead['Page Views Per Visit'].fillna(2, inplace=True)\n"
   ]
  },
  {
   "cell_type": "markdown",
   "id": "90c87749",
   "metadata": {},
   "source": [
    "Let's make all column names follow the same nameing convention"
   ]
  },
  {
   "cell_type": "code",
   "execution_count": 43,
   "id": "19a94c00",
   "metadata": {},
   "outputs": [],
   "source": [
    "lead.columns = lead.columns.str.lower().str.replace(' ','_')\n",
    "string_columns = list(lead.dtypes[lead.dtypes=='Object'].index)\n",
    "\n",
    "for col in string_columns:\n",
    "    lead[col] = lead[col].str.lower().str.replace(' ', '_')"
   ]
  },
  {
   "cell_type": "markdown",
   "id": "fd4b52a8",
   "metadata": {},
   "source": [
    "# Split our data into trian and test datasets"
   ]
  },
  {
   "cell_type": "code",
   "execution_count": 44,
   "id": "24cd51cb",
   "metadata": {},
   "outputs": [],
   "source": [
    "from sklearn.model_selection import train_test_split"
   ]
  },
  {
   "cell_type": "code",
   "execution_count": 45,
   "id": "786f41f1",
   "metadata": {},
   "outputs": [],
   "source": [
    "train_full,test_X = train_test_split(lead,test_size = 0.2,random_state = 1)"
   ]
  },
  {
   "cell_type": "code",
   "execution_count": 46,
   "id": "0bb3c624",
   "metadata": {},
   "outputs": [],
   "source": [
    "train_X,val_X=train_test_split(train_full,test_size=0.2,random_state=1)"
   ]
  },
  {
   "cell_type": "code",
   "execution_count": 47,
   "id": "0384a85a",
   "metadata": {},
   "outputs": [],
   "source": [
    "train_y = train_X['converted'].values.reshape(-1,1)\n",
    "val_y = val_X['converted'].values.reshape(-1,1)\n",
    "test_y = test_X['converted'].values.reshape(-1,1)"
   ]
  },
  {
   "cell_type": "code",
   "execution_count": 48,
   "id": "15f92623",
   "metadata": {},
   "outputs": [
    {
     "name": "stdout",
     "output_type": "stream",
     "text": [
      "5913\n",
      "1479\n",
      "1848\n"
     ]
    }
   ],
   "source": [
    "print(f'{len(train_y)}\\n{len(val_y)}\\n{len(test_y)}')"
   ]
  },
  {
   "cell_type": "code",
   "execution_count": 49,
   "id": "adcd1386",
   "metadata": {},
   "outputs": [
    {
     "name": "stdout",
     "output_type": "stream",
     "text": [
      "Column names in train_X: Index(['prospect_id', 'lead_number', 'lead_origin', 'lead_source',\n",
      "       'do_not_email', 'do_not_call', 'converted', 'totalvisits',\n",
      "       'total_time_spent_on_website', 'page_views_per_visit', 'last_activity',\n",
      "       'country', 'specialization', 'how_did_you_hear_about_x_education',\n",
      "       'what_is_your_current_occupation',\n",
      "       'what_matters_most_to_you_in_choosing_a_course', 'search', 'magazine',\n",
      "       'newspaper_article', 'x_education_forums', 'newspaper',\n",
      "       'digital_advertisement', 'through_recommendations',\n",
      "       'receive_more_updates_about_our_courses',\n",
      "       'update_me_on_supply_chain_content', 'get_updates_on_dm_content',\n",
      "       'lead_profile', 'city', 'i_agree_to_pay_the_amount_through_cheque',\n",
      "       'a_free_copy_of_mastering_the_interview', 'last_notable_activity'],\n",
      "      dtype='object')\n",
      "Column names in val_X: Index(['prospect_id', 'lead_number', 'lead_origin', 'lead_source',\n",
      "       'do_not_email', 'do_not_call', 'converted', 'totalvisits',\n",
      "       'total_time_spent_on_website', 'page_views_per_visit', 'last_activity',\n",
      "       'country', 'specialization', 'how_did_you_hear_about_x_education',\n",
      "       'what_is_your_current_occupation',\n",
      "       'what_matters_most_to_you_in_choosing_a_course', 'search', 'magazine',\n",
      "       'newspaper_article', 'x_education_forums', 'newspaper',\n",
      "       'digital_advertisement', 'through_recommendations',\n",
      "       'receive_more_updates_about_our_courses',\n",
      "       'update_me_on_supply_chain_content', 'get_updates_on_dm_content',\n",
      "       'lead_profile', 'city', 'i_agree_to_pay_the_amount_through_cheque',\n",
      "       'a_free_copy_of_mastering_the_interview', 'last_notable_activity'],\n",
      "      dtype='object')\n",
      "Column names in test_X: Index(['prospect_id', 'lead_number', 'lead_origin', 'lead_source',\n",
      "       'do_not_email', 'do_not_call', 'converted', 'totalvisits',\n",
      "       'total_time_spent_on_website', 'page_views_per_visit', 'last_activity',\n",
      "       'country', 'specialization', 'how_did_you_hear_about_x_education',\n",
      "       'what_is_your_current_occupation',\n",
      "       'what_matters_most_to_you_in_choosing_a_course', 'search', 'magazine',\n",
      "       'newspaper_article', 'x_education_forums', 'newspaper',\n",
      "       'digital_advertisement', 'through_recommendations',\n",
      "       'receive_more_updates_about_our_courses',\n",
      "       'update_me_on_supply_chain_content', 'get_updates_on_dm_content',\n",
      "       'lead_profile', 'city', 'i_agree_to_pay_the_amount_through_cheque',\n",
      "       'a_free_copy_of_mastering_the_interview', 'last_notable_activity'],\n",
      "      dtype='object')\n"
     ]
    }
   ],
   "source": [
    "train_X.columns = train_X.columns.str.replace('-', '')\n",
    "val_X.columns = val_X.columns.str.replace('-', '')\n",
    "test_X.columns = test_X.columns.str.replace('-', '')\n",
    "\n",
    "print(\"Column names in train_X:\", train_X.columns)\n",
    "print(\"Column names in val_X:\", val_X.columns)\n",
    "print(\"Column names in test_X:\", test_X.columns)\n",
    "\n"
   ]
  },
  {
   "cell_type": "code",
   "execution_count": 50,
   "id": "eb70d2ac",
   "metadata": {},
   "outputs": [
    {
     "name": "stdout",
     "output_type": "stream",
     "text": [
      "Length of train_y: 5913\n",
      "Length of val_X: 1479\n",
      "Length of train_X: 5913\n"
     ]
    }
   ],
   "source": [
    "train_y = train_X['converted']\n",
    "print(f\"Length of train_y: {len(train_y)}\")\n",
    "print(f\"Length of val_X: {len(val_X)}\")\n",
    "print(f\"Length of train_X: {len(train_X)}\")\n"
   ]
  },
  {
   "cell_type": "markdown",
   "id": "7e05b32e",
   "metadata": {},
   "source": [
    "# Explotary Data Analysis"
   ]
  },
  {
   "cell_type": "code",
   "execution_count": 51,
   "id": "35ff96f8",
   "metadata": {},
   "outputs": [],
   "source": [
    "categorical_df = lead.select_dtypes(include='object')\n",
    "categorical_df.drop(['prospect_id'], axis=1, inplace=True)\n",
    "categorical = list(categorical_df.columns)\n",
    "\n",
    "numerical_df = lead.select_dtypes(exclude='object')\n",
    "numerical_df.drop(['lead_number', 'converted'], axis=1, inplace=True)\n",
    "numerical = list(numerical_df)"
   ]
  },
  {
   "cell_type": "code",
   "execution_count": 52,
   "id": "5e985656",
   "metadata": {},
   "outputs": [
    {
     "data": {
      "text/html": [
       "<div>\n",
       "<style scoped>\n",
       "    .dataframe tbody tr th:only-of-type {\n",
       "        vertical-align: middle;\n",
       "    }\n",
       "\n",
       "    .dataframe tbody tr th {\n",
       "        vertical-align: top;\n",
       "    }\n",
       "\n",
       "    .dataframe thead th {\n",
       "        text-align: right;\n",
       "    }\n",
       "</style>\n",
       "<table border=\"1\" class=\"dataframe\">\n",
       "  <thead>\n",
       "    <tr style=\"text-align: right;\">\n",
       "      <th></th>\n",
       "      <th>nunique</th>\n",
       "    </tr>\n",
       "  </thead>\n",
       "  <tbody>\n",
       "    <tr>\n",
       "      <th>country</th>\n",
       "      <td>36</td>\n",
       "    </tr>\n",
       "    <tr>\n",
       "      <th>lead_source</th>\n",
       "      <td>19</td>\n",
       "    </tr>\n",
       "    <tr>\n",
       "      <th>specialization</th>\n",
       "      <td>19</td>\n",
       "    </tr>\n",
       "    <tr>\n",
       "      <th>last_activity</th>\n",
       "      <td>17</td>\n",
       "    </tr>\n",
       "    <tr>\n",
       "      <th>last_notable_activity</th>\n",
       "      <td>15</td>\n",
       "    </tr>\n",
       "    <tr>\n",
       "      <th>how_did_you_hear_about_x_education</th>\n",
       "      <td>10</td>\n",
       "    </tr>\n",
       "    <tr>\n",
       "      <th>city</th>\n",
       "      <td>7</td>\n",
       "    </tr>\n",
       "    <tr>\n",
       "      <th>lead_profile</th>\n",
       "      <td>6</td>\n",
       "    </tr>\n",
       "    <tr>\n",
       "      <th>what_is_your_current_occupation</th>\n",
       "      <td>6</td>\n",
       "    </tr>\n",
       "    <tr>\n",
       "      <th>lead_origin</th>\n",
       "      <td>5</td>\n",
       "    </tr>\n",
       "    <tr>\n",
       "      <th>search</th>\n",
       "      <td>2</td>\n",
       "    </tr>\n",
       "    <tr>\n",
       "      <th>what_matters_most_to_you_in_choosing_a_course</th>\n",
       "      <td>2</td>\n",
       "    </tr>\n",
       "    <tr>\n",
       "      <th>newspaper</th>\n",
       "      <td>2</td>\n",
       "    </tr>\n",
       "    <tr>\n",
       "      <th>digital_advertisement</th>\n",
       "      <td>2</td>\n",
       "    </tr>\n",
       "    <tr>\n",
       "      <th>through_recommendations</th>\n",
       "      <td>2</td>\n",
       "    </tr>\n",
       "    <tr>\n",
       "      <th>do_not_call</th>\n",
       "      <td>2</td>\n",
       "    </tr>\n",
       "    <tr>\n",
       "      <th>do_not_email</th>\n",
       "      <td>2</td>\n",
       "    </tr>\n",
       "    <tr>\n",
       "      <th>a_free_copy_of_mastering_the_interview</th>\n",
       "      <td>2</td>\n",
       "    </tr>\n",
       "    <tr>\n",
       "      <th>newspaper_article</th>\n",
       "      <td>2</td>\n",
       "    </tr>\n",
       "    <tr>\n",
       "      <th>magazine</th>\n",
       "      <td>1</td>\n",
       "    </tr>\n",
       "    <tr>\n",
       "      <th>x_education_forums</th>\n",
       "      <td>1</td>\n",
       "    </tr>\n",
       "    <tr>\n",
       "      <th>receive_more_updates_about_our_courses</th>\n",
       "      <td>1</td>\n",
       "    </tr>\n",
       "    <tr>\n",
       "      <th>update_me_on_supply_chain_content</th>\n",
       "      <td>1</td>\n",
       "    </tr>\n",
       "    <tr>\n",
       "      <th>get_updates_on_dm_content</th>\n",
       "      <td>1</td>\n",
       "    </tr>\n",
       "    <tr>\n",
       "      <th>i_agree_to_pay_the_amount_through_cheque</th>\n",
       "      <td>1</td>\n",
       "    </tr>\n",
       "  </tbody>\n",
       "</table>\n",
       "</div>"
      ],
      "text/plain": [
       "                                               nunique\n",
       "country                                             36\n",
       "lead_source                                         19\n",
       "specialization                                      19\n",
       "last_activity                                       17\n",
       "last_notable_activity                               15\n",
       "how_did_you_hear_about_x_education                  10\n",
       "city                                                 7\n",
       "lead_profile                                         6\n",
       "what_is_your_current_occupation                      6\n",
       "lead_origin                                          5\n",
       "search                                               2\n",
       "what_matters_most_to_you_in_choosing_a_course        2\n",
       "newspaper                                            2\n",
       "digital_advertisement                                2\n",
       "through_recommendations                              2\n",
       "do_not_call                                          2\n",
       "do_not_email                                         2\n",
       "a_free_copy_of_mastering_the_interview               2\n",
       "newspaper_article                                    2\n",
       "magazine                                             1\n",
       "x_education_forums                                   1\n",
       "receive_more_updates_about_our_courses               1\n",
       "update_me_on_supply_chain_content                    1\n",
       "get_updates_on_dm_content                            1\n",
       "i_agree_to_pay_the_amount_through_cheque             1"
      ]
     },
     "execution_count": 52,
     "metadata": {},
     "output_type": "execute_result"
    }
   ],
   "source": [
    "train_X[categorical].nunique().to_frame('nunique').sort_values('nunique', ascending=False)"
   ]
  },
  {
   "cell_type": "code",
   "execution_count": 53,
   "id": "58ac50f4",
   "metadata": {},
   "outputs": [
    {
     "data": {
      "text/plain": [
       "converted\n",
       "0    3629\n",
       "1    2284\n",
       "Name: count, dtype: int64"
      ]
     },
     "execution_count": 53,
     "metadata": {},
     "output_type": "execute_result"
    }
   ],
   "source": [
    "train_X['converted'].value_counts()"
   ]
  },
  {
   "cell_type": "markdown",
   "id": "c87d1714",
   "metadata": {},
   "source": [
    "In our data, 2832 leads converted their contract and 4560 leads didn't convert. In order to find convering rate we can divide 2831 by 4560 or use mean() funtion, which will do the same thing."
   ]
  },
  {
   "cell_type": "code",
   "execution_count": 54,
   "id": "c2dff993",
   "metadata": {},
   "outputs": [
    {
     "data": {
      "text/html": [
       "<div>\n",
       "<style scoped>\n",
       "    .dataframe tbody tr th:only-of-type {\n",
       "        vertical-align: middle;\n",
       "    }\n",
       "\n",
       "    .dataframe tbody tr th {\n",
       "        vertical-align: top;\n",
       "    }\n",
       "\n",
       "    .dataframe thead th {\n",
       "        text-align: right;\n",
       "    }\n",
       "</style>\n",
       "<table border=\"1\" class=\"dataframe\">\n",
       "  <thead>\n",
       "    <tr style=\"text-align: right;\">\n",
       "      <th></th>\n",
       "      <th>nunique</th>\n",
       "    </tr>\n",
       "  </thead>\n",
       "  <tbody>\n",
       "    <tr>\n",
       "      <th>country</th>\n",
       "      <td>36</td>\n",
       "    </tr>\n",
       "    <tr>\n",
       "      <th>lead_source</th>\n",
       "      <td>19</td>\n",
       "    </tr>\n",
       "    <tr>\n",
       "      <th>specialization</th>\n",
       "      <td>19</td>\n",
       "    </tr>\n",
       "    <tr>\n",
       "      <th>last_activity</th>\n",
       "      <td>17</td>\n",
       "    </tr>\n",
       "    <tr>\n",
       "      <th>last_notable_activity</th>\n",
       "      <td>15</td>\n",
       "    </tr>\n",
       "    <tr>\n",
       "      <th>how_did_you_hear_about_x_education</th>\n",
       "      <td>10</td>\n",
       "    </tr>\n",
       "    <tr>\n",
       "      <th>city</th>\n",
       "      <td>7</td>\n",
       "    </tr>\n",
       "    <tr>\n",
       "      <th>lead_profile</th>\n",
       "      <td>6</td>\n",
       "    </tr>\n",
       "    <tr>\n",
       "      <th>what_is_your_current_occupation</th>\n",
       "      <td>6</td>\n",
       "    </tr>\n",
       "    <tr>\n",
       "      <th>lead_origin</th>\n",
       "      <td>5</td>\n",
       "    </tr>\n",
       "    <tr>\n",
       "      <th>search</th>\n",
       "      <td>2</td>\n",
       "    </tr>\n",
       "    <tr>\n",
       "      <th>what_matters_most_to_you_in_choosing_a_course</th>\n",
       "      <td>2</td>\n",
       "    </tr>\n",
       "    <tr>\n",
       "      <th>newspaper</th>\n",
       "      <td>2</td>\n",
       "    </tr>\n",
       "    <tr>\n",
       "      <th>digital_advertisement</th>\n",
       "      <td>2</td>\n",
       "    </tr>\n",
       "    <tr>\n",
       "      <th>through_recommendations</th>\n",
       "      <td>2</td>\n",
       "    </tr>\n",
       "    <tr>\n",
       "      <th>do_not_call</th>\n",
       "      <td>2</td>\n",
       "    </tr>\n",
       "    <tr>\n",
       "      <th>do_not_email</th>\n",
       "      <td>2</td>\n",
       "    </tr>\n",
       "    <tr>\n",
       "      <th>a_free_copy_of_mastering_the_interview</th>\n",
       "      <td>2</td>\n",
       "    </tr>\n",
       "    <tr>\n",
       "      <th>newspaper_article</th>\n",
       "      <td>2</td>\n",
       "    </tr>\n",
       "    <tr>\n",
       "      <th>magazine</th>\n",
       "      <td>1</td>\n",
       "    </tr>\n",
       "    <tr>\n",
       "      <th>x_education_forums</th>\n",
       "      <td>1</td>\n",
       "    </tr>\n",
       "    <tr>\n",
       "      <th>receive_more_updates_about_our_courses</th>\n",
       "      <td>1</td>\n",
       "    </tr>\n",
       "    <tr>\n",
       "      <th>update_me_on_supply_chain_content</th>\n",
       "      <td>1</td>\n",
       "    </tr>\n",
       "    <tr>\n",
       "      <th>get_updates_on_dm_content</th>\n",
       "      <td>1</td>\n",
       "    </tr>\n",
       "    <tr>\n",
       "      <th>i_agree_to_pay_the_amount_through_cheque</th>\n",
       "      <td>1</td>\n",
       "    </tr>\n",
       "  </tbody>\n",
       "</table>\n",
       "</div>"
      ],
      "text/plain": [
       "                                               nunique\n",
       "country                                             36\n",
       "lead_source                                         19\n",
       "specialization                                      19\n",
       "last_activity                                       17\n",
       "last_notable_activity                               15\n",
       "how_did_you_hear_about_x_education                  10\n",
       "city                                                 7\n",
       "lead_profile                                         6\n",
       "what_is_your_current_occupation                      6\n",
       "lead_origin                                          5\n",
       "search                                               2\n",
       "what_matters_most_to_you_in_choosing_a_course        2\n",
       "newspaper                                            2\n",
       "digital_advertisement                                2\n",
       "through_recommendations                              2\n",
       "do_not_call                                          2\n",
       "do_not_email                                         2\n",
       "a_free_copy_of_mastering_the_interview               2\n",
       "newspaper_article                                    2\n",
       "magazine                                             1\n",
       "x_education_forums                                   1\n",
       "receive_more_updates_about_our_courses               1\n",
       "update_me_on_supply_chain_content                    1\n",
       "get_updates_on_dm_content                            1\n",
       "i_agree_to_pay_the_amount_through_cheque             1"
      ]
     },
     "execution_count": 54,
     "metadata": {},
     "output_type": "execute_result"
    }
   ],
   "source": [
    "train_X[categorical].nunique().to_frame('nunique').sort_values('nunique', ascending=False)"
   ]
  },
  {
   "cell_type": "code",
   "execution_count": 55,
   "id": "1182abc9",
   "metadata": {},
   "outputs": [
    {
     "name": "stdout",
     "output_type": "stream",
     "text": [
      "Index(['prospect_id', 'lead_number', 'lead_origin', 'lead_source',\n",
      "       'do_not_email', 'do_not_call', 'converted', 'totalvisits',\n",
      "       'total_time_spent_on_website', 'page_views_per_visit', 'last_activity',\n",
      "       'country', 'specialization', 'how_did_you_hear_about_x_education',\n",
      "       'what_is_your_current_occupation',\n",
      "       'what_matters_most_to_you_in_choosing_a_course', 'search', 'magazine',\n",
      "       'newspaper_article', 'x_education_forums', 'newspaper',\n",
      "       'digital_advertisement', 'through_recommendations',\n",
      "       'receive_more_updates_about_our_courses',\n",
      "       'update_me_on_supply_chain_content', 'get_updates_on_dm_content',\n",
      "       'lead_profile', 'city', 'i_agree_to_pay_the_amount_through_cheque',\n",
      "       'a_free_copy_of_mastering_the_interview', 'last_notable_activity'],\n",
      "      dtype='object')\n"
     ]
    }
   ],
   "source": [
    "print(train_X.columns)\n",
    "\n"
   ]
  },
  {
   "cell_type": "code",
   "execution_count": 56,
   "id": "023a16b3",
   "metadata": {},
   "outputs": [
    {
     "data": {
      "text/plain": [
       "converted\n",
       "0    3629\n",
       "1    2284\n",
       "Name: count, dtype: int64"
      ]
     },
     "execution_count": 56,
     "metadata": {},
     "output_type": "execute_result"
    }
   ],
   "source": [
    "train_X[\"converted\"].value_counts()"
   ]
  },
  {
   "cell_type": "code",
   "execution_count": 57,
   "id": "ba8679f7",
   "metadata": {
    "scrolled": false
   },
   "outputs": [
    {
     "data": {
      "text/plain": [
       "<Axes: xlabel='converted', ylabel='count'>"
      ]
     },
     "execution_count": 57,
     "metadata": {},
     "output_type": "execute_result"
    },
    {
     "data": {
      "image/png": "[encoded data removed]",
      "text/plain": [
       "<Figure size 640x480 with 1 Axes>"
      ]
     },
     "metadata": {},
     "output_type": "display_data"
    }
   ],
   "source": [
    "sns.countplot(data=train_X, x=\"converted\")\n"
   ]
  },
  {
   "cell_type": "code",
   "execution_count": 58,
   "id": "b5bc60ef",
   "metadata": {},
   "outputs": [
    {
     "name": "stdout",
     "output_type": "stream",
     "text": [
      "Conversion rate: 0.38626754608489766\n"
     ]
    }
   ],
   "source": [
    "# Calculate conversion rate using mean function\n",
    "conversion_rate = train_X['converted'].mean()\n",
    "\n",
    "# Print the conversion rate\n",
    "print(\"Conversion rate:\", conversion_rate)\n"
   ]
  },
  {
   "cell_type": "code",
   "execution_count": 59,
   "id": "2ef2adef",
   "metadata": {},
   "outputs": [
    {
     "data": {
      "text/plain": [
       "4561.0"
      ]
     },
     "execution_count": 59,
     "metadata": {},
     "output_type": "execute_result"
    }
   ],
   "source": [
    "2832/2832+4560"
   ]
  },
  {
   "cell_type": "markdown",
   "id": "5940c84e",
   "metadata": {},
   "source": [
    "In our data, 2832 leads converted their contract and 4560 leads didn't convert. In order to find convering rate we can divide 2831 by 4560 or use mean() funtion, which will do the same thing."
   ]
  },
  {
   "cell_type": "code",
   "execution_count": 60,
   "id": "e9d53b80",
   "metadata": {},
   "outputs": [
    {
     "name": "stdout",
     "output_type": "stream",
     "text": [
      "Only 38.6% of leads have been successfully converted.\n"
     ]
    }
   ],
   "source": [
    "global_mean = round(train_X['converted'].mean(),3)\n",
    "print(f'Only {global_mean*100}% of leads have been successfully converted.')"
   ]
  },
  {
   "cell_type": "markdown",
   "id": "48cc2844",
   "metadata": {},
   "source": [
    "If we choose specific column and find converted mean, we will know converting rate of that group. We can do it by groupby function.\n",
    "\n",
    "If difference between global converting rate and that column's converting rate is positive, it means that this group of leads convert their contracts more than general. If it's negative, they convert less than general. And if difference between the rates is the small, the value is not important when predicting converting because this group of leads is not really different from rest of leads.\n",
    "\n",
    "Reliability = global rate / group rate. If reliability is lower than 1, the group has lower reliability. And if group reliability is around 1, it's not different from global rate. And if it's above 1, it means that it has more reability that leads will convert their contracts."
   ]
  },
  {
   "cell_type": "code",
   "execution_count": 61,
   "id": "a3d65041",
   "metadata": {},
   "outputs": [
    {
     "data": {
      "text/html": [
       "<div>\n",
       "<style scoped>\n",
       "    .dataframe tbody tr th:only-of-type {\n",
       "        vertical-align: middle;\n",
       "    }\n",
       "\n",
       "    .dataframe tbody tr th {\n",
       "        vertical-align: top;\n",
       "    }\n",
       "\n",
       "    .dataframe thead th {\n",
       "        text-align: right;\n",
       "    }\n",
       "</style>\n",
       "<table border=\"1\" class=\"dataframe\">\n",
       "  <thead>\n",
       "    <tr style=\"text-align: right;\">\n",
       "      <th></th>\n",
       "      <th>mean</th>\n",
       "      <th>diff</th>\n",
       "      <th>reliability</th>\n",
       "    </tr>\n",
       "    <tr>\n",
       "      <th>what_is_your_current_occupation</th>\n",
       "      <th></th>\n",
       "      <th></th>\n",
       "      <th></th>\n",
       "    </tr>\n",
       "  </thead>\n",
       "  <tbody>\n",
       "    <tr>\n",
       "      <th>Businessman</th>\n",
       "      <td>0.400000</td>\n",
       "      <td>-0.014000</td>\n",
       "      <td>1.036269</td>\n",
       "    </tr>\n",
       "    <tr>\n",
       "      <th>Housewife</th>\n",
       "      <td>1.000000</td>\n",
       "      <td>-0.614000</td>\n",
       "      <td>2.590674</td>\n",
       "    </tr>\n",
       "    <tr>\n",
       "      <th>Other</th>\n",
       "      <td>0.147387</td>\n",
       "      <td>0.238613</td>\n",
       "      <td>0.381832</td>\n",
       "    </tr>\n",
       "    <tr>\n",
       "      <th>Student</th>\n",
       "      <td>0.377778</td>\n",
       "      <td>0.008222</td>\n",
       "      <td>0.978699</td>\n",
       "    </tr>\n",
       "    <tr>\n",
       "      <th>Unemployed</th>\n",
       "      <td>0.431573</td>\n",
       "      <td>-0.045573</td>\n",
       "      <td>1.118065</td>\n",
       "    </tr>\n",
       "    <tr>\n",
       "      <th>Working Professional</th>\n",
       "      <td>0.924107</td>\n",
       "      <td>-0.538107</td>\n",
       "      <td>2.394060</td>\n",
       "    </tr>\n",
       "  </tbody>\n",
       "</table>\n",
       "</div>"
      ],
      "text/plain": [
       "                                     mean      diff  reliability\n",
       "what_is_your_current_occupation                                 \n",
       "Businessman                      0.400000 -0.014000     1.036269\n",
       "Housewife                        1.000000 -0.614000     2.590674\n",
       "Other                            0.147387  0.238613     0.381832\n",
       "Student                          0.377778  0.008222     0.978699\n",
       "Unemployed                       0.431573 -0.045573     1.118065\n",
       "Working Professional             0.924107 -0.538107     2.394060"
      ]
     },
     "execution_count": 61,
     "metadata": {},
     "output_type": "execute_result"
    }
   ],
   "source": [
    "grouped_train = train_X.groupby('what_is_your_current_occupation').converted.agg(['mean'])\n",
    "grouped_train['diff'] = global_mean - grouped_train['mean']\n",
    "grouped_train['reliability'] = grouped_train['mean']/global_mean\n",
    "grouped_train"
   ]
  },
  {
   "cell_type": "markdown",
   "id": "31a2462c",
   "metadata": {},
   "source": [
    "Housewife and Working Professional categories are most likely to be converted. There are sharp differences between values.\n",
    "\n"
   ]
  },
  {
   "cell_type": "code",
   "execution_count": 62,
   "id": "e6f0e2f7",
   "metadata": {},
   "outputs": [],
   "source": [
    "def converted_stat(column):\n",
    "    data_group = train_X.groupby(column).converted.agg(['mean'])\n",
    "    data_group['diff'] = data_group['mean'] - global_mean\n",
    "    data_group['reliability'] = data_group['mean']/global_mean\n",
    "    return data_group"
   ]
  },
  {
   "cell_type": "code",
   "execution_count": 63,
   "id": "c3f6ee1b",
   "metadata": {},
   "outputs": [
    {
     "data": {
      "text/html": [
       "<div>\n",
       "<style scoped>\n",
       "    .dataframe tbody tr th:only-of-type {\n",
       "        vertical-align: middle;\n",
       "    }\n",
       "\n",
       "    .dataframe tbody tr th {\n",
       "        vertical-align: top;\n",
       "    }\n",
       "\n",
       "    .dataframe thead th {\n",
       "        text-align: right;\n",
       "    }\n",
       "</style>\n",
       "<table border=\"1\" class=\"dataframe\">\n",
       "  <thead>\n",
       "    <tr style=\"text-align: right;\">\n",
       "      <th></th>\n",
       "      <th>mean</th>\n",
       "      <th>diff</th>\n",
       "      <th>reliability</th>\n",
       "    </tr>\n",
       "    <tr>\n",
       "      <th>what_matters_most_to_you_in_choosing_a_course</th>\n",
       "      <th></th>\n",
       "      <th></th>\n",
       "      <th></th>\n",
       "    </tr>\n",
       "  </thead>\n",
       "  <tbody>\n",
       "    <tr>\n",
       "      <th>Better Career Prospects</th>\n",
       "      <td>0.485245</td>\n",
       "      <td>0.099245</td>\n",
       "      <td>1.257112</td>\n",
       "    </tr>\n",
       "    <tr>\n",
       "      <th>Other</th>\n",
       "      <td>0.143191</td>\n",
       "      <td>-0.242809</td>\n",
       "      <td>0.370961</td>\n",
       "    </tr>\n",
       "  </tbody>\n",
       "</table>\n",
       "</div>"
      ],
      "text/plain": [
       "                                                   mean      diff  reliability\n",
       "what_matters_most_to_you_in_choosing_a_course                                 \n",
       "Better Career Prospects                        0.485245  0.099245     1.257112\n",
       "Other                                          0.143191 -0.242809     0.370961"
      ]
     },
     "execution_count": 63,
     "metadata": {},
     "output_type": "execute_result"
    }
   ],
   "source": [
    "converted_stat('what_matters_most_to_you_in_choosing_a_course')\n"
   ]
  },
  {
   "cell_type": "code",
   "execution_count": 64,
   "id": "4d780a47",
   "metadata": {},
   "outputs": [
    {
     "data": {
      "image/png": "[encoded data removed]",
      "text/plain": [
       "<Figure size 1000x600 with 1 Axes>"
      ]
     },
     "metadata": {},
     "output_type": "display_data"
    }
   ],
   "source": [
    "import seaborn as sns\n",
    "import matplotlib.pyplot as plt\n",
    "\n",
    "def converted_stat(column_name):\n",
    "    # Plotting the count of converted values based on the specified column\n",
    "    plt.figure(figsize=(10, 6))\n",
    "    sns.countplot(data=lead, x=column_name, hue='converted')\n",
    "    plt.title(f'Count of Converted Values by {column_name}')\n",
    "    plt.xlabel(column_name)\n",
    "    plt.ylabel('Count')\n",
    "    plt.xticks(rotation=45, ha='right')  # Rotate x-axis labels for better readability\n",
    "    plt.legend(title='Converted', labels=['Not Converted', 'Converted'])\n",
    "    plt.show()\n",
    "\n",
    "# Call the function with the specified column name\n",
    "converted_stat('what_matters_most_to_you_in_choosing_a_course')\n"
   ]
  },
  {
   "cell_type": "code",
   "execution_count": 65,
   "id": "92e7d5a2",
   "metadata": {},
   "outputs": [
    {
     "data": {
      "image/png": "[encoded data removed]",
      "text/plain": [
       "<Figure size 1000x600 with 1 Axes>"
      ]
     },
     "metadata": {},
     "output_type": "display_data"
    }
   ],
   "source": [
    "converted_stat('a_free_copy_of_mastering_the_interview')\n"
   ]
  },
  {
   "cell_type": "code",
   "execution_count": 66,
   "id": "c75587b8",
   "metadata": {},
   "outputs": [
    {
     "data": {
      "image/png": "[encoded data removed]",
      "text/plain": [
       "<Figure size 1000x600 with 1 Axes>"
      ]
     },
     "metadata": {},
     "output_type": "display_data"
    }
   ],
   "source": [
    "converted_stat('city')"
   ]
  },
  {
   "cell_type": "code",
   "execution_count": 67,
   "id": "e615c98f",
   "metadata": {},
   "outputs": [
    {
     "data": {
      "image/png": "[encoded data removed]",
      "text/plain": [
       "<Figure size 1000x600 with 1 Axes>"
      ]
     },
     "metadata": {},
     "output_type": "display_data"
    }
   ],
   "source": [
    "converted_stat('do_not_email')"
   ]
  },
  {
   "cell_type": "code",
   "execution_count": 68,
   "id": "cda55c9a",
   "metadata": {},
   "outputs": [
    {
     "data": {
      "image/png": "[encoded data removed]",
      "text/plain": [
       "<Figure size 1000x600 with 1 Axes>"
      ]
     },
     "metadata": {},
     "output_type": "display_data"
    }
   ],
   "source": [
    "converted_stat('lead_origin')"
   ]
  },
  {
   "cell_type": "markdown",
   "id": "32c1cc33",
   "metadata": {},
   "source": [
    "# Dependency between categorical variables and target variable\n",
    "\n"
   ]
  },
  {
   "cell_type": "code",
   "execution_count": 69,
   "id": "ed96b5a4",
   "metadata": {},
   "outputs": [
    {
     "name": "stdout",
     "output_type": "stream",
     "text": [
      "Index(['prospect_id', 'lead_number', 'lead_origin', 'lead_source',\n",
      "       'do_not_email', 'do_not_call', 'converted', 'totalvisits',\n",
      "       'total_time_spent_on_website', 'page_views_per_visit', 'last_activity',\n",
      "       'country', 'specialization', 'how_did_you_hear_about_x_education',\n",
      "       'what_is_your_current_occupation',\n",
      "       'what_matters_most_to_you_in_choosing_a_course', 'search', 'magazine',\n",
      "       'newspaper_article', 'x_education_forums', 'newspaper',\n",
      "       'digital_advertisement', 'through_recommendations',\n",
      "       'receive_more_updates_about_our_courses',\n",
      "       'update_me_on_supply_chain_content', 'get_updates_on_dm_content',\n",
      "       'lead_profile', 'city', 'i_agree_to_pay_the_amount_through_cheque',\n",
      "       'a_free_copy_of_mastering_the_interview', 'last_notable_activity'],\n",
      "      dtype='object')\n"
     ]
    }
   ],
   "source": [
    "\n",
    "lead.columns = lead.columns.str.replace('-', '')\n",
    "\n",
    "print(lead.columns)\n"
   ]
  },
  {
   "cell_type": "code",
   "execution_count": 70,
   "id": "4c89e335",
   "metadata": {},
   "outputs": [
    {
     "data": {
      "text/html": [
       "<div>\n",
       "<style scoped>\n",
       "    .dataframe tbody tr th:only-of-type {\n",
       "        vertical-align: middle;\n",
       "    }\n",
       "\n",
       "    .dataframe tbody tr th {\n",
       "        vertical-align: top;\n",
       "    }\n",
       "\n",
       "    .dataframe thead th {\n",
       "        text-align: right;\n",
       "    }\n",
       "</style>\n",
       "<table border=\"1\" class=\"dataframe\">\n",
       "  <thead>\n",
       "    <tr style=\"text-align: right;\">\n",
       "      <th></th>\n",
       "      <th>Mi</th>\n",
       "    </tr>\n",
       "  </thead>\n",
       "  <tbody>\n",
       "    <tr>\n",
       "      <th>what_is_your_current_occupation</th>\n",
       "      <td>0.095197</td>\n",
       "    </tr>\n",
       "    <tr>\n",
       "      <th>last_activity</th>\n",
       "      <td>0.088512</td>\n",
       "    </tr>\n",
       "    <tr>\n",
       "      <th>lead_profile</th>\n",
       "      <td>0.082869</td>\n",
       "    </tr>\n",
       "    <tr>\n",
       "      <th>last_notable_activity</th>\n",
       "      <td>0.073860</td>\n",
       "    </tr>\n",
       "    <tr>\n",
       "      <th>lead_source</th>\n",
       "      <td>0.061560</td>\n",
       "    </tr>\n",
       "    <tr>\n",
       "      <th>what_matters_most_to_you_in_choosing_a_course</th>\n",
       "      <td>0.060058</td>\n",
       "    </tr>\n",
       "    <tr>\n",
       "      <th>lead_origin</th>\n",
       "      <td>0.056251</td>\n",
       "    </tr>\n",
       "    <tr>\n",
       "      <th>specialization</th>\n",
       "      <td>0.014624</td>\n",
       "    </tr>\n",
       "    <tr>\n",
       "      <th>do_not_email</th>\n",
       "      <td>0.010327</td>\n",
       "    </tr>\n",
       "    <tr>\n",
       "      <th>country</th>\n",
       "      <td>0.003023</td>\n",
       "    </tr>\n",
       "    <tr>\n",
       "      <th>city</th>\n",
       "      <td>0.003002</td>\n",
       "    </tr>\n",
       "    <tr>\n",
       "      <th>how_did_you_hear_about_x_education</th>\n",
       "      <td>0.001446</td>\n",
       "    </tr>\n",
       "    <tr>\n",
       "      <th>a_free_copy_of_mastering_the_interview</th>\n",
       "      <td>0.000797</td>\n",
       "    </tr>\n",
       "    <tr>\n",
       "      <th>do_not_call</th>\n",
       "      <td>0.000206</td>\n",
       "    </tr>\n",
       "    <tr>\n",
       "      <th>through_recommendations</th>\n",
       "      <td>0.000168</td>\n",
       "    </tr>\n",
       "    <tr>\n",
       "      <th>newspaper</th>\n",
       "      <td>0.000053</td>\n",
       "    </tr>\n",
       "    <tr>\n",
       "      <th>x_education_forums</th>\n",
       "      <td>0.000053</td>\n",
       "    </tr>\n",
       "    <tr>\n",
       "      <th>digital_advertisement</th>\n",
       "      <td>0.000018</td>\n",
       "    </tr>\n",
       "    <tr>\n",
       "      <th>newspaper_article</th>\n",
       "      <td>0.000006</td>\n",
       "    </tr>\n",
       "    <tr>\n",
       "      <th>search</th>\n",
       "      <td>0.000003</td>\n",
       "    </tr>\n",
       "    <tr>\n",
       "      <th>receive_more_updates_about_our_courses</th>\n",
       "      <td>0.000000</td>\n",
       "    </tr>\n",
       "    <tr>\n",
       "      <th>update_me_on_supply_chain_content</th>\n",
       "      <td>0.000000</td>\n",
       "    </tr>\n",
       "    <tr>\n",
       "      <th>get_updates_on_dm_content</th>\n",
       "      <td>0.000000</td>\n",
       "    </tr>\n",
       "    <tr>\n",
       "      <th>magazine</th>\n",
       "      <td>0.000000</td>\n",
       "    </tr>\n",
       "    <tr>\n",
       "      <th>i_agree_to_pay_the_amount_through_cheque</th>\n",
       "      <td>0.000000</td>\n",
       "    </tr>\n",
       "  </tbody>\n",
       "</table>\n",
       "</div>"
      ],
      "text/plain": [
       "                                                     Mi\n",
       "what_is_your_current_occupation                0.095197\n",
       "last_activity                                  0.088512\n",
       "lead_profile                                   0.082869\n",
       "last_notable_activity                          0.073860\n",
       "lead_source                                    0.061560\n",
       "what_matters_most_to_you_in_choosing_a_course  0.060058\n",
       "lead_origin                                    0.056251\n",
       "specialization                                 0.014624\n",
       "do_not_email                                   0.010327\n",
       "country                                        0.003023\n",
       "city                                           0.003002\n",
       "how_did_you_hear_about_x_education             0.001446\n",
       "a_free_copy_of_mastering_the_interview         0.000797\n",
       "do_not_call                                    0.000206\n",
       "through_recommendations                        0.000168\n",
       "newspaper                                      0.000053\n",
       "x_education_forums                             0.000053\n",
       "digital_advertisement                          0.000018\n",
       "newspaper_article                              0.000006\n",
       "search                                         0.000003\n",
       "receive_more_updates_about_our_courses         0.000000\n",
       "update_me_on_supply_chain_content              0.000000\n",
       "get_updates_on_dm_content                      0.000000\n",
       "magazine                                       0.000000\n",
       "i_agree_to_pay_the_amount_through_cheque       0.000000"
      ]
     },
     "execution_count": 70,
     "metadata": {},
     "output_type": "execute_result"
    }
   ],
   "source": [
    "from sklearn.metrics import mutual_info_score\n",
    "\n",
    "def calculate_mi(series):\n",
    "    return mutual_info_score(series, lead['converted'])\n",
    "\n",
    "data_mi = lead[categorical].apply(calculate_mi)\n",
    "data_mi = data_mi.sort_values(ascending=False).to_frame(name='Mi')\n",
    "data_mi\n"
   ]
  },
  {
   "cell_type": "code",
   "execution_count": 71,
   "id": "d774024b",
   "metadata": {},
   "outputs": [
    {
     "name": "stdout",
     "output_type": "stream",
     "text": [
      "Index(['prospect_id', 'lead_number', 'lead_origin', 'lead_source',\n",
      "       'do_not_email', 'do_not_call', 'converted', 'totalvisits',\n",
      "       'total_time_spent_on_website', 'page_views_per_visit', 'last_activity',\n",
      "       'country', 'specialization', 'how_did_you_hear_about_x_education',\n",
      "       'what_is_your_current_occupation',\n",
      "       'what_matters_most_to_you_in_choosing_a_course', 'search', 'magazine',\n",
      "       'newspaper_article', 'x_education_forums', 'newspaper',\n",
      "       'digital_advertisement', 'through_recommendations',\n",
      "       'receive_more_updates_about_our_courses',\n",
      "       'update_me_on_supply_chain_content', 'get_updates_on_dm_content',\n",
      "       'lead_profile', 'city', 'i_agree_to_pay_the_amount_through_cheque',\n",
      "       'a_free_copy_of_mastering_the_interview', 'last_notable_activity'],\n",
      "      dtype='object')\n"
     ]
    }
   ],
   "source": [
    "print(lead.columns)  "
   ]
  },
  {
   "cell_type": "markdown",
   "id": "939d5df3",
   "metadata": {},
   "source": [
    "# Correcaltion Coefficient"
   ]
  },
  {
   "cell_type": "code",
   "execution_count": 72,
   "id": "58a7cb4e",
   "metadata": {},
   "outputs": [
    {
     "data": {
      "image/png": "[encoded data removed]",
      "text/plain": [
       "<Figure size 1000x800 with 2 Axes>"
      ]
     },
     "metadata": {},
     "output_type": "display_data"
    }
   ],
   "source": [
    "# Identify and handle non-numerical values\n",
    "non_numeric_cols = lead.select_dtypes(exclude=['float64', 'int64']).columns\n",
    "lead_numeric = lead.drop(columns=non_numeric_cols)\n",
    "\n",
    "# Convert categorical columns to numerical format using one-hot encoding\n",
    "lead_numeric = pd.get_dummies(lead_numeric)\n",
    "\n",
    "# Create correlation heatmap\n",
    "plt.figure(figsize=(10, 8))\n",
    "sns.heatmap(lead_numeric.corr(), annot=True)\n",
    "plt.title('Correlation Heatmap')\n",
    "plt.show()\n"
   ]
  },
  {
   "cell_type": "code",
   "execution_count": 73,
   "id": "27a4d74c",
   "metadata": {},
   "outputs": [
    {
     "data": {
      "text/html": [
       "<div>\n",
       "<style scoped>\n",
       "    .dataframe tbody tr th:only-of-type {\n",
       "        vertical-align: middle;\n",
       "    }\n",
       "\n",
       "    .dataframe tbody tr th {\n",
       "        vertical-align: top;\n",
       "    }\n",
       "\n",
       "    .dataframe thead th {\n",
       "        text-align: right;\n",
       "    }\n",
       "</style>\n",
       "<table border=\"1\" class=\"dataframe\">\n",
       "  <thead>\n",
       "    <tr style=\"text-align: right;\">\n",
       "      <th></th>\n",
       "      <th>Correlations</th>\n",
       "    </tr>\n",
       "  </thead>\n",
       "  <tbody>\n",
       "    <tr>\n",
       "      <th>totalvisits</th>\n",
       "      <td>0.029119</td>\n",
       "    </tr>\n",
       "    <tr>\n",
       "      <th>total_time_spent_on_website</th>\n",
       "      <td>0.362483</td>\n",
       "    </tr>\n",
       "    <tr>\n",
       "      <th>page_views_per_visit</th>\n",
       "      <td>-0.005068</td>\n",
       "    </tr>\n",
       "  </tbody>\n",
       "</table>\n",
       "</div>"
      ],
      "text/plain": [
       "                             Correlations\n",
       "totalvisits                      0.029119\n",
       "total_time_spent_on_website      0.362483\n",
       "page_views_per_visit            -0.005068"
      ]
     },
     "execution_count": 73,
     "metadata": {},
     "output_type": "execute_result"
    }
   ],
   "source": [
    "lead[numerical].corrwith(lead['converted']).to_frame('Correlations')"
   ]
  },
  {
   "cell_type": "markdown",
   "id": "dfb18e00",
   "metadata": {},
   "source": [
    "Totalvisits and total_time_spent_on_website has positive correlation, the more leads visit website and the more time they spent on website, the more leads are converted. But page_views_per_visit has negative correlation, the more number of pages on the website are viewed during the visits, the less they are converted.\n",
    "\n",
    "We choose categorical variables with me score more than 0.01."
   ]
  },
  {
   "cell_type": "markdown",
   "id": "2b644b54",
   "metadata": {},
   "source": [
    "lead number ,totalvisits and total_time_spent_on_website has positive correlation, the more leads visit website and the more time they spent on website, the more leads are converted. But page_views_per_visit has negative correlation, the more number of pages on the website are viewed during the visits, the less they are converted."
   ]
  },
  {
   "cell_type": "markdown",
   "id": "17c68eb7",
   "metadata": {},
   "source": [
    "choose categorical variables with me score more than 0.01."
   ]
  },
  {
   "cell_type": "markdown",
   "id": "9d54a559",
   "metadata": {},
   "source": [
    "# Vectorizing variables"
   ]
  },
  {
   "cell_type": "code",
   "execution_count": 74,
   "id": "0339691c",
   "metadata": {},
   "outputs": [],
   "source": [
    "cat = list(data_mi.iloc[0:9,:].index)"
   ]
  },
  {
   "cell_type": "code",
   "execution_count": 75,
   "id": "19de06d7",
   "metadata": {},
   "outputs": [
    {
     "data": {
      "text/plain": [
       "['what_is_your_current_occupation',\n",
       " 'last_activity',\n",
       " 'lead_profile',\n",
       " 'last_notable_activity',\n",
       " 'lead_source',\n",
       " 'what_matters_most_to_you_in_choosing_a_course',\n",
       " 'lead_origin',\n",
       " 'specialization',\n",
       " 'do_not_email']"
      ]
     },
     "execution_count": 75,
     "metadata": {},
     "output_type": "execute_result"
    }
   ],
   "source": [
    "cat"
   ]
  },
  {
   "cell_type": "code",
   "execution_count": 76,
   "id": "aa8164f8",
   "metadata": {},
   "outputs": [
    {
     "data": {
      "text/html": [
       "<div>\n",
       "<style scoped>\n",
       "    .dataframe tbody tr th:only-of-type {\n",
       "        vertical-align: middle;\n",
       "    }\n",
       "\n",
       "    .dataframe tbody tr th {\n",
       "        vertical-align: top;\n",
       "    }\n",
       "\n",
       "    .dataframe thead th {\n",
       "        text-align: right;\n",
       "    }\n",
       "</style>\n",
       "<table border=\"1\" class=\"dataframe\">\n",
       "  <thead>\n",
       "    <tr style=\"text-align: right;\">\n",
       "      <th></th>\n",
       "      <th>Mi</th>\n",
       "    </tr>\n",
       "  </thead>\n",
       "  <tbody>\n",
       "    <tr>\n",
       "      <th>what_is_your_current_occupation</th>\n",
       "      <td>0.095197</td>\n",
       "    </tr>\n",
       "    <tr>\n",
       "      <th>last_activity</th>\n",
       "      <td>0.088512</td>\n",
       "    </tr>\n",
       "    <tr>\n",
       "      <th>lead_profile</th>\n",
       "      <td>0.082869</td>\n",
       "    </tr>\n",
       "    <tr>\n",
       "      <th>last_notable_activity</th>\n",
       "      <td>0.073860</td>\n",
       "    </tr>\n",
       "    <tr>\n",
       "      <th>lead_source</th>\n",
       "      <td>0.061560</td>\n",
       "    </tr>\n",
       "    <tr>\n",
       "      <th>what_matters_most_to_you_in_choosing_a_course</th>\n",
       "      <td>0.060058</td>\n",
       "    </tr>\n",
       "    <tr>\n",
       "      <th>lead_origin</th>\n",
       "      <td>0.056251</td>\n",
       "    </tr>\n",
       "    <tr>\n",
       "      <th>specialization</th>\n",
       "      <td>0.014624</td>\n",
       "    </tr>\n",
       "    <tr>\n",
       "      <th>do_not_email</th>\n",
       "      <td>0.010327</td>\n",
       "    </tr>\n",
       "    <tr>\n",
       "      <th>country</th>\n",
       "      <td>0.003023</td>\n",
       "    </tr>\n",
       "    <tr>\n",
       "      <th>city</th>\n",
       "      <td>0.003002</td>\n",
       "    </tr>\n",
       "    <tr>\n",
       "      <th>how_did_you_hear_about_x_education</th>\n",
       "      <td>0.001446</td>\n",
       "    </tr>\n",
       "    <tr>\n",
       "      <th>a_free_copy_of_mastering_the_interview</th>\n",
       "      <td>0.000797</td>\n",
       "    </tr>\n",
       "    <tr>\n",
       "      <th>do_not_call</th>\n",
       "      <td>0.000206</td>\n",
       "    </tr>\n",
       "    <tr>\n",
       "      <th>through_recommendations</th>\n",
       "      <td>0.000168</td>\n",
       "    </tr>\n",
       "    <tr>\n",
       "      <th>newspaper</th>\n",
       "      <td>0.000053</td>\n",
       "    </tr>\n",
       "    <tr>\n",
       "      <th>x_education_forums</th>\n",
       "      <td>0.000053</td>\n",
       "    </tr>\n",
       "    <tr>\n",
       "      <th>digital_advertisement</th>\n",
       "      <td>0.000018</td>\n",
       "    </tr>\n",
       "    <tr>\n",
       "      <th>newspaper_article</th>\n",
       "      <td>0.000006</td>\n",
       "    </tr>\n",
       "    <tr>\n",
       "      <th>search</th>\n",
       "      <td>0.000003</td>\n",
       "    </tr>\n",
       "    <tr>\n",
       "      <th>receive_more_updates_about_our_courses</th>\n",
       "      <td>0.000000</td>\n",
       "    </tr>\n",
       "    <tr>\n",
       "      <th>update_me_on_supply_chain_content</th>\n",
       "      <td>0.000000</td>\n",
       "    </tr>\n",
       "    <tr>\n",
       "      <th>get_updates_on_dm_content</th>\n",
       "      <td>0.000000</td>\n",
       "    </tr>\n",
       "    <tr>\n",
       "      <th>magazine</th>\n",
       "      <td>0.000000</td>\n",
       "    </tr>\n",
       "    <tr>\n",
       "      <th>i_agree_to_pay_the_amount_through_cheque</th>\n",
       "      <td>0.000000</td>\n",
       "    </tr>\n",
       "  </tbody>\n",
       "</table>\n",
       "</div>"
      ],
      "text/plain": [
       "                                                     Mi\n",
       "what_is_your_current_occupation                0.095197\n",
       "last_activity                                  0.088512\n",
       "lead_profile                                   0.082869\n",
       "last_notable_activity                          0.073860\n",
       "lead_source                                    0.061560\n",
       "what_matters_most_to_you_in_choosing_a_course  0.060058\n",
       "lead_origin                                    0.056251\n",
       "specialization                                 0.014624\n",
       "do_not_email                                   0.010327\n",
       "country                                        0.003023\n",
       "city                                           0.003002\n",
       "how_did_you_hear_about_x_education             0.001446\n",
       "a_free_copy_of_mastering_the_interview         0.000797\n",
       "do_not_call                                    0.000206\n",
       "through_recommendations                        0.000168\n",
       "newspaper                                      0.000053\n",
       "x_education_forums                             0.000053\n",
       "digital_advertisement                          0.000018\n",
       "newspaper_article                              0.000006\n",
       "search                                         0.000003\n",
       "receive_more_updates_about_our_courses         0.000000\n",
       "update_me_on_supply_chain_content              0.000000\n",
       "get_updates_on_dm_content                      0.000000\n",
       "magazine                                       0.000000\n",
       "i_agree_to_pay_the_amount_through_cheque       0.000000"
      ]
     },
     "execution_count": 76,
     "metadata": {},
     "output_type": "execute_result"
    }
   ],
   "source": [
    "data_mi"
   ]
  },
  {
   "cell_type": "code",
   "execution_count": 77,
   "id": "0e2bd715",
   "metadata": {},
   "outputs": [
    {
     "name": "stdout",
     "output_type": "stream",
     "text": [
      "                                                     Mi\n",
      "lead_source                                    0.061560\n",
      "what_matters_most_to_you_in_choosing_a_course  0.060058\n",
      "lead_origin                                    0.056251\n",
      "specialization                                 0.014624\n",
      "do_not_email                                   0.010327\n",
      "country                                        0.003023\n",
      "city                                           0.003002\n",
      "how_did_you_hear_about_x_education             0.001446\n",
      "a_free_copy_of_mastering_the_interview         0.000797\n",
      "do_not_call                                    0.000206\n",
      "through_recommendations                        0.000168\n"
     ]
    }
   ],
   "source": [
    "# Extract the 5th to 10th rows from data_mi\n",
    "subset_data_mi = data_mi.iloc[4:15:]\n",
    "\n",
    "# Display the subset\n",
    "print(subset_data_mi)\n"
   ]
  },
  {
   "cell_type": "code",
   "execution_count": 78,
   "id": "867558ac",
   "metadata": {},
   "outputs": [],
   "source": [
    "train_dict = train_X[cat+numerical].to_dict(orient='records')\n"
   ]
  },
  {
   "cell_type": "code",
   "execution_count": 79,
   "id": "ecda5df7",
   "metadata": {},
   "outputs": [
    {
     "data": {
      "text/plain": [
       "{'what_is_your_current_occupation': 'Unemployed',\n",
       " 'last_activity': 'SMS Sent',\n",
       " 'lead_profile': 'Select',\n",
       " 'last_notable_activity': 'SMS Sent',\n",
       " 'lead_source': 'Direct Traffic',\n",
       " 'what_matters_most_to_you_in_choosing_a_course': 'Better Career Prospects',\n",
       " 'lead_origin': 'Landing Page Submission',\n",
       " 'specialization': 'Supply Chain Management',\n",
       " 'do_not_email': 'No',\n",
       " 'totalvisits': 4.0,\n",
       " 'total_time_spent_on_website': 1376,\n",
       " 'page_views_per_visit': 4.0}"
      ]
     },
     "execution_count": 79,
     "metadata": {},
     "output_type": "execute_result"
    }
   ],
   "source": [
    "train_dict[0]"
   ]
  },
  {
   "cell_type": "markdown",
   "id": "613bfc34",
   "metadata": {},
   "source": [
    "Column names in data frame is key and rows are values.\n",
    "\n"
   ]
  },
  {
   "cell_type": "code",
   "execution_count": 80,
   "id": "69c539e5",
   "metadata": {},
   "outputs": [],
   "source": [
    "from sklearn.feature_extraction import DictVectorizer\n",
    "\n",
    "dv = DictVectorizer(sparse=False)\n",
    "X_train = dv.fit_transform(train_dict)"
   ]
  },
  {
   "cell_type": "code",
   "execution_count": 81,
   "id": "542b2600",
   "metadata": {},
   "outputs": [
    {
     "data": {
      "text/plain": [
       "94"
      ]
     },
     "execution_count": 81,
     "metadata": {},
     "output_type": "execute_result"
    }
   ],
   "source": [
    "len(X_train[0])\n"
   ]
  },
  {
   "cell_type": "markdown",
   "id": "89f22e89",
   "metadata": {},
   "source": [
    "We vectorized rows into array, to see the column names we can use get_feature_names() funtion.\n",
    "\n"
   ]
  },
  {
   "cell_type": "code",
   "execution_count": 82,
   "id": "aba25b08",
   "metadata": {},
   "outputs": [
    {
     "name": "stdout",
     "output_type": "stream",
     "text": [
      "['do_not_email=No' 'do_not_email=Yes' 'last_activity=Approached upfront'\n",
      " 'last_activity=Converted to Lead' 'last_activity=Email Bounced'\n",
      " 'last_activity=Email Link Clicked' 'last_activity=Email Marked Spam'\n",
      " 'last_activity=Email Opened' 'last_activity=Email Received'\n",
      " 'last_activity=Form Submitted on Website'\n",
      " 'last_activity=Had a Phone Conversation'\n",
      " 'last_activity=Olark Chat Conversation'\n",
      " 'last_activity=Page Visited on Website'\n",
      " 'last_activity=Resubscribed to emails' 'last_activity=SMS Sent'\n",
      " 'last_activity=Unreachable' 'last_activity=Unsubscribed'\n",
      " 'last_activity=View in browser link Clicked' 'last_activity=other'\n",
      " 'last_notable_activity=Email Bounced'\n",
      " 'last_notable_activity=Email Link Clicked'\n",
      " 'last_notable_activity=Email Marked Spam'\n",
      " 'last_notable_activity=Email Opened'\n",
      " 'last_notable_activity=Email Received'\n",
      " 'last_notable_activity=Form Submitted on Website'\n",
      " 'last_notable_activity=Had a Phone Conversation'\n",
      " 'last_notable_activity=Modified'\n",
      " 'last_notable_activity=Olark Chat Conversation'\n",
      " 'last_notable_activity=Page Visited on Website'\n",
      " 'last_notable_activity=Resubscribed to emails'\n",
      " 'last_notable_activity=SMS Sent' 'last_notable_activity=Unreachable'\n",
      " 'last_notable_activity=Unsubscribed'\n",
      " 'last_notable_activity=View in browser link Clicked' 'lead_origin=API'\n",
      " 'lead_origin=Landing Page Submission' 'lead_origin=Lead Add Form'\n",
      " 'lead_origin=Lead Import' 'lead_origin=Quick Add Form'\n",
      " 'lead_profile=Dual Specialization Student' 'lead_profile=Lateral Student'\n",
      " 'lead_profile=Other Leads' 'lead_profile=Potential Lead'\n",
      " 'lead_profile=Select' 'lead_profile=Student of SomeSchool'\n",
      " 'lead_source=Click2call' 'lead_source=Direct Traffic'\n",
      " 'lead_source=Facebook' 'lead_source=Google' 'lead_source=Live Chat'\n",
      " 'lead_source=NC_EDM' 'lead_source=Olark Chat'\n",
      " 'lead_source=Organic Search' 'lead_source=Pay per Click Ads'\n",
      " 'lead_source=Press_Release' 'lead_source=Reference'\n",
      " 'lead_source=Referral Sites' 'lead_source=Social Media'\n",
      " 'lead_source=WeLearn' 'lead_source=Welingak Website' 'lead_source=bing'\n",
      " 'lead_source=blog' 'lead_source=welearnblog_Home'\n",
      " 'lead_source=youtubechannel' 'page_views_per_visit'\n",
      " 'specialization=Banking, Investment And Insurance'\n",
      " 'specialization=Business Administration' 'specialization=E-Business'\n",
      " 'specialization=E-COMMERCE' 'specialization=Finance Management'\n",
      " 'specialization=Healthcare Management'\n",
      " 'specialization=Hospitality Management'\n",
      " 'specialization=Human Resource Management'\n",
      " 'specialization=IT Projects Management'\n",
      " 'specialization=International Business'\n",
      " 'specialization=Marketing Management'\n",
      " 'specialization=Media and Advertising'\n",
      " 'specialization=Operations Management' 'specialization=Retail Management'\n",
      " 'specialization=Rural and Agribusiness' 'specialization=Select'\n",
      " 'specialization=Services Excellence'\n",
      " 'specialization=Supply Chain Management'\n",
      " 'specialization=Travel and Tourism' 'total_time_spent_on_website'\n",
      " 'totalvisits' 'what_is_your_current_occupation=Businessman'\n",
      " 'what_is_your_current_occupation=Housewife'\n",
      " 'what_is_your_current_occupation=Other'\n",
      " 'what_is_your_current_occupation=Student'\n",
      " 'what_is_your_current_occupation=Unemployed'\n",
      " 'what_is_your_current_occupation=Working Professional'\n",
      " 'what_matters_most_to_you_in_choosing_a_course=Better Career Prospects'\n",
      " 'what_matters_most_to_you_in_choosing_a_course=Other']\n"
     ]
    }
   ],
   "source": [
    "#dv.get_feature_names()\n",
    "feature_names = dv.get_feature_names_out()\n",
    "print(feature_names)\n"
   ]
  },
  {
   "cell_type": "markdown",
   "id": "53dc1c29",
   "metadata": {},
   "source": [
    "# Logistic regression¶\n"
   ]
  },
  {
   "cell_type": "markdown",
   "id": "4bfe1b29",
   "metadata": {},
   "source": [
    "To predict leads will be converted or not we will use logistic regression model\n",
    "\n"
   ]
  },
  {
   "cell_type": "code",
   "execution_count": 83,
   "id": "aa0325fd",
   "metadata": {},
   "outputs": [],
   "source": [
    "val_dict = val_X[cat+numerical].to_dict(orient='records')\n",
    "X_val = dv.transform(val_dict)"
   ]
  },
  {
   "cell_type": "code",
   "execution_count": 84,
   "id": "5fcf8ef1",
   "metadata": {},
   "outputs": [
    {
     "data": {
      "text/plain": [
       "94"
      ]
     },
     "execution_count": 84,
     "metadata": {},
     "output_type": "execute_result"
    }
   ],
   "source": [
    "len(X_val[0])"
   ]
  },
  {
   "cell_type": "code",
   "execution_count": 85,
   "id": "1ccf6efe",
   "metadata": {},
   "outputs": [
    {
     "data": {
      "text/html": [
       "<style>#sk-container-id-1 {\n",
       "  /* Definition of color scheme common for light and dark mode */\n",
       "  --sklearn-color-text: black;\n",
       "  --sklearn-color-line: gray;\n",
       "  /* Definition of color scheme for unfitted estimators */\n",
       "  --sklearn-color-unfitted-level-0: #fff5e6;\n",
       "  --sklearn-color-unfitted-level-1: #f6e4d2;\n",
       "  --sklearn-color-unfitted-level-2: #ffe0b3;\n",
       "  --sklearn-color-unfitted-level-3: chocolate;\n",
       "  /* Definition of color scheme for fitted estimators */\n",
       "  --sklearn-color-fitted-level-0: #f0f8ff;\n",
       "  --sklearn-color-fitted-level-1: #d4ebff;\n",
       "  --sklearn-color-fitted-level-2: #b3dbfd;\n",
       "  --sklearn-color-fitted-level-3: cornflowerblue;\n",
       "\n",
       "  /* Specific color for light theme */\n",
       "  --sklearn-color-text-on-default-background: var(--sg-text-color, var(--theme-code-foreground, var(--jp-content-font-color1, black)));\n",
       "  --sklearn-color-background: var(--sg-background-color, var(--theme-background, var(--jp-layout-color0, white)));\n",
       "  --sklearn-color-border-box: var(--sg-text-color, var(--theme-code-foreground, var(--jp-content-font-color1, black)));\n",
       "  --sklearn-color-icon: #696969;\n",
       "\n",
       "  @media (prefers-color-scheme: dark) {\n",
       "    /* Redefinition of color scheme for dark theme */\n",
       "    --sklearn-color-text-on-default-background: var(--sg-text-color, var(--theme-code-foreground, var(--jp-content-font-color1, white)));\n",
       "    --sklearn-color-background: var(--sg-background-color, var(--theme-background, var(--jp-layout-color0, #111)));\n",
       "    --sklearn-color-border-box: var(--sg-text-color, var(--theme-code-foreground, var(--jp-content-font-color1, white)));\n",
       "    --sklearn-color-icon: #878787;\n",
       "  }\n",
       "}\n",
       "\n",
       "#sk-container-id-1 {\n",
       "  color: var(--sklearn-color-text);\n",
       "}\n",
       "\n",
       "#sk-container-id-1 pre {\n",
       "  padding: 0;\n",
       "}\n",
       "\n",
       "#sk-container-id-1 input.sk-hidden--visually {\n",
       "  border: 0;\n",
       "  clip: rect(1px 1px 1px 1px);\n",
       "  clip: rect(1px, 1px, 1px, 1px);\n",
       "  height: 1px;\n",
       "  margin: -1px;\n",
       "  overflow: hidden;\n",
       "  padding: 0;\n",
       "  position: absolute;\n",
       "  width: 1px;\n",
       "}\n",
       "\n",
       "#sk-container-id-1 div.sk-dashed-wrapped {\n",
       "  border: 1px dashed var(--sklearn-color-line);\n",
       "  margin: 0 0.4em 0.5em 0.4em;\n",
       "  box-sizing: border-box;\n",
       "  padding-bottom: 0.4em;\n",
       "  background-color: var(--sklearn-color-background);\n",
       "}\n",
       "\n",
       "#sk-container-id-1 div.sk-container {\n",
       "  /* jupyter's `normalize.less` sets `[hidden] { display: none; }`\n",
       "     but bootstrap.min.css set `[hidden] { display: none !important; }`\n",
       "     so we also need the `!important` here to be able to override the\n",
       "     default hidden behavior on the sphinx rendered scikit-learn.org.\n",
       "     See: https://github.com/scikit-learn/scikit-learn/issues/21755 */\n",
       "  display: inline-block !important;\n",
       "  position: relative;\n",
       "}\n",
       "\n",
       "#sk-container-id-1 div.sk-text-repr-fallback {\n",
       "  display: none;\n",
       "}\n",
       "\n",
       "div.sk-parallel-item,\n",
       "div.sk-serial,\n",
       "div.sk-item {\n",
       "  /* draw centered vertical line to link estimators */\n",
       "  background-image: linear-gradient(var(--sklearn-color-text-on-default-background), var(--sklearn-color-text-on-default-background));\n",
       "  background-size: 2px 100%;\n",
       "  background-repeat: no-repeat;\n",
       "  background-position: center center;\n",
       "}\n",
       "\n",
       "/* Parallel-specific style estimator block */\n",
       "\n",
       "#sk-container-id-1 div.sk-parallel-item::after {\n",
       "  content: \"\";\n",
       "  width: 100%;\n",
       "  border-bottom: 2px solid var(--sklearn-color-text-on-default-background);\n",
       "  flex-grow: 1;\n",
       "}\n",
       "\n",
       "#sk-container-id-1 div.sk-parallel {\n",
       "  display: flex;\n",
       "  align-items: stretch;\n",
       "  justify-content: center;\n",
       "  background-color: var(--sklearn-color-background);\n",
       "  position: relative;\n",
       "}\n",
       "\n",
       "#sk-container-id-1 div.sk-parallel-item {\n",
       "  display: flex;\n",
       "  flex-direction: column;\n",
       "}\n",
       "\n",
       "#sk-container-id-1 div.sk-parallel-item:first-child::after {\n",
       "  align-self: flex-end;\n",
       "  width: 50%;\n",
       "}\n",
       "\n",
       "#sk-container-id-1 div.sk-parallel-item:last-child::after {\n",
       "  align-self: flex-start;\n",
       "  width: 50%;\n",
       "}\n",
       "\n",
       "#sk-container-id-1 div.sk-parallel-item:only-child::after {\n",
       "  width: 0;\n",
       "}\n",
       "\n",
       "/* Serial-specific style estimator block */\n",
       "\n",
       "#sk-container-id-1 div.sk-serial {\n",
       "  display: flex;\n",
       "  flex-direction: column;\n",
       "  align-items: center;\n",
       "  background-color: var(--sklearn-color-background);\n",
       "  padding-right: 1em;\n",
       "  padding-left: 1em;\n",
       "}\n",
       "\n",
       "\n",
       "/* Toggleable style: style used for estimator/Pipeline/ColumnTransformer box that is\n",
       "clickable and can be expanded/collapsed.\n",
       "- Pipeline and ColumnTransformer use this feature and define the default style\n",
       "- Estimators will overwrite some part of the style using the `sk-estimator` class\n",
       "*/\n",
       "\n",
       "/* Pipeline and ColumnTransformer style (default) */\n",
       "\n",
       "#sk-container-id-1 div.sk-toggleable {\n",
       "  /* Default theme specific background. It is overwritten whether we have a\n",
       "  specific estimator or a Pipeline/ColumnTransformer */\n",
       "  background-color: var(--sklearn-color-background);\n",
       "}\n",
       "\n",
       "/* Toggleable label */\n",
       "#sk-container-id-1 label.sk-toggleable__label {\n",
       "  cursor: pointer;\n",
       "  display: block;\n",
       "  width: 100%;\n",
       "  margin-bottom: 0;\n",
       "  padding: 0.5em;\n",
       "  box-sizing: border-box;\n",
       "  text-align: center;\n",
       "}\n",
       "\n",
       "#sk-container-id-1 label.sk-toggleable__label-arrow:before {\n",
       "  /* Arrow on the left of the label */\n",
       "  content: \"▸\";\n",
       "  float: left;\n",
       "  margin-right: 0.25em;\n",
       "  color: var(--sklearn-color-icon);\n",
       "}\n",
       "\n",
       "#sk-container-id-1 label.sk-toggleable__label-arrow:hover:before {\n",
       "  color: var(--sklearn-color-text);\n",
       "}\n",
       "\n",
       "/* Toggleable content - dropdown */\n",
       "\n",
       "#sk-container-id-1 div.sk-toggleable__content {\n",
       "  max-height: 0;\n",
       "  max-width: 0;\n",
       "  overflow: hidden;\n",
       "  text-align: left;\n",
       "  /* unfitted */\n",
       "  background-color: var(--sklearn-color-unfitted-level-0);\n",
       "}\n",
       "\n",
       "#sk-container-id-1 div.sk-toggleable__content.fitted {\n",
       "  /* fitted */\n",
       "  background-color: var(--sklearn-color-fitted-level-0);\n",
       "}\n",
       "\n",
       "#sk-container-id-1 div.sk-toggleable__content pre {\n",
       "  margin: 0.2em;\n",
       "  border-radius: 0.25em;\n",
       "  color: var(--sklearn-color-text);\n",
       "  /* unfitted */\n",
       "  background-color: var(--sklearn-color-unfitted-level-0);\n",
       "}\n",
       "\n",
       "#sk-container-id-1 div.sk-toggleable__content.fitted pre {\n",
       "  /* unfitted */\n",
       "  background-color: var(--sklearn-color-fitted-level-0);\n",
       "}\n",
       "\n",
       "#sk-container-id-1 input.sk-toggleable__control:checked~div.sk-toggleable__content {\n",
       "  /* Expand drop-down */\n",
       "  max-height: 200px;\n",
       "  max-width: 100%;\n",
       "  overflow: auto;\n",
       "}\n",
       "\n",
       "#sk-container-id-1 input.sk-toggleable__control:checked~label.sk-toggleable__label-arrow:before {\n",
       "  content: \"▾\";\n",
       "}\n",
       "\n",
       "/* Pipeline/ColumnTransformer-specific style */\n",
       "\n",
       "#sk-container-id-1 div.sk-label input.sk-toggleable__control:checked~label.sk-toggleable__label {\n",
       "  color: var(--sklearn-color-text);\n",
       "  background-color: var(--sklearn-color-unfitted-level-2);\n",
       "}\n",
       "\n",
       "#sk-container-id-1 div.sk-label.fitted input.sk-toggleable__control:checked~label.sk-toggleable__label {\n",
       "  background-color: var(--sklearn-color-fitted-level-2);\n",
       "}\n",
       "\n",
       "/* Estimator-specific style */\n",
       "\n",
       "/* Colorize estimator box */\n",
       "#sk-container-id-1 div.sk-estimator input.sk-toggleable__control:checked~label.sk-toggleable__label {\n",
       "  /* unfitted */\n",
       "  background-color: var(--sklearn-color-unfitted-level-2);\n",
       "}\n",
       "\n",
       "#sk-container-id-1 div.sk-estimator.fitted input.sk-toggleable__control:checked~label.sk-toggleable__label {\n",
       "  /* fitted */\n",
       "  background-color: var(--sklearn-color-fitted-level-2);\n",
       "}\n",
       "\n",
       "#sk-container-id-1 div.sk-label label.sk-toggleable__label,\n",
       "#sk-container-id-1 div.sk-label label {\n",
       "  /* The background is the default theme color */\n",
       "  color: var(--sklearn-color-text-on-default-background);\n",
       "}\n",
       "\n",
       "/* On hover, darken the color of the background */\n",
       "#sk-container-id-1 div.sk-label:hover label.sk-toggleable__label {\n",
       "  color: var(--sklearn-color-text);\n",
       "  background-color: var(--sklearn-color-unfitted-level-2);\n",
       "}\n",
       "\n",
       "/* Label box, darken color on hover, fitted */\n",
       "#sk-container-id-1 div.sk-label.fitted:hover label.sk-toggleable__label.fitted {\n",
       "  color: var(--sklearn-color-text);\n",
       "  background-color: var(--sklearn-color-fitted-level-2);\n",
       "}\n",
       "\n",
       "/* Estimator label */\n",
       "\n",
       "#sk-container-id-1 div.sk-label label {\n",
       "  font-family: monospace;\n",
       "  font-weight: bold;\n",
       "  display: inline-block;\n",
       "  line-height: 1.2em;\n",
       "}\n",
       "\n",
       "#sk-container-id-1 div.sk-label-container {\n",
       "  text-align: center;\n",
       "}\n",
       "\n",
       "/* Estimator-specific */\n",
       "#sk-container-id-1 div.sk-estimator {\n",
       "  font-family: monospace;\n",
       "  border: 1px dotted var(--sklearn-color-border-box);\n",
       "  border-radius: 0.25em;\n",
       "  box-sizing: border-box;\n",
       "  margin-bottom: 0.5em;\n",
       "  /* unfitted */\n",
       "  background-color: var(--sklearn-color-unfitted-level-0);\n",
       "}\n",
       "\n",
       "#sk-container-id-1 div.sk-estimator.fitted {\n",
       "  /* fitted */\n",
       "  background-color: var(--sklearn-color-fitted-level-0);\n",
       "}\n",
       "\n",
       "/* on hover */\n",
       "#sk-container-id-1 div.sk-estimator:hover {\n",
       "  /* unfitted */\n",
       "  background-color: var(--sklearn-color-unfitted-level-2);\n",
       "}\n",
       "\n",
       "#sk-container-id-1 div.sk-estimator.fitted:hover {\n",
       "  /* fitted */\n",
       "  background-color: var(--sklearn-color-fitted-level-2);\n",
       "}\n",
       "\n",
       "/* Specification for estimator info (e.g. \"i\" and \"?\") */\n",
       "\n",
       "/* Common style for \"i\" and \"?\" */\n",
       "\n",
       ".sk-estimator-doc-link,\n",
       "a:link.sk-estimator-doc-link,\n",
       "a:visited.sk-estimator-doc-link {\n",
       "  float: right;\n",
       "  font-size: smaller;\n",
       "  line-height: 1em;\n",
       "  font-family: monospace;\n",
       "  background-color: var(--sklearn-color-background);\n",
       "  border-radius: 1em;\n",
       "  height: 1em;\n",
       "  width: 1em;\n",
       "  text-decoration: none !important;\n",
       "  margin-left: 1ex;\n",
       "  /* unfitted */\n",
       "  border: var(--sklearn-color-unfitted-level-1) 1pt solid;\n",
       "  color: var(--sklearn-color-unfitted-level-1);\n",
       "}\n",
       "\n",
       ".sk-estimator-doc-link.fitted,\n",
       "a:link.sk-estimator-doc-link.fitted,\n",
       "a:visited.sk-estimator-doc-link.fitted {\n",
       "  /* fitted */\n",
       "  border: var(--sklearn-color-fitted-level-1) 1pt solid;\n",
       "  color: var(--sklearn-color-fitted-level-1);\n",
       "}\n",
       "\n",
       "/* On hover */\n",
       "div.sk-estimator:hover .sk-estimator-doc-link:hover,\n",
       ".sk-estimator-doc-link:hover,\n",
       "div.sk-label-container:hover .sk-estimator-doc-link:hover,\n",
       ".sk-estimator-doc-link:hover {\n",
       "  /* unfitted */\n",
       "  background-color: var(--sklearn-color-unfitted-level-3);\n",
       "  color: var(--sklearn-color-background);\n",
       "  text-decoration: none;\n",
       "}\n",
       "\n",
       "div.sk-estimator.fitted:hover .sk-estimator-doc-link.fitted:hover,\n",
       ".sk-estimator-doc-link.fitted:hover,\n",
       "div.sk-label-container:hover .sk-estimator-doc-link.fitted:hover,\n",
       ".sk-estimator-doc-link.fitted:hover {\n",
       "  /* fitted */\n",
       "  background-color: var(--sklearn-color-fitted-level-3);\n",
       "  color: var(--sklearn-color-background);\n",
       "  text-decoration: none;\n",
       "}\n",
       "\n",
       "/* Span, style for the box shown on hovering the info icon */\n",
       ".sk-estimator-doc-link span {\n",
       "  display: none;\n",
       "  z-index: 9999;\n",
       "  position: relative;\n",
       "  font-weight: normal;\n",
       "  right: .2ex;\n",
       "  padding: .5ex;\n",
       "  margin: .5ex;\n",
       "  width: min-content;\n",
       "  min-width: 20ex;\n",
       "  max-width: 50ex;\n",
       "  color: var(--sklearn-color-text);\n",
       "  box-shadow: 2pt 2pt 4pt #999;\n",
       "  /* unfitted */\n",
       "  background: var(--sklearn-color-unfitted-level-0);\n",
       "  border: .5pt solid var(--sklearn-color-unfitted-level-3);\n",
       "}\n",
       "\n",
       ".sk-estimator-doc-link.fitted span {\n",
       "  /* fitted */\n",
       "  background: var(--sklearn-color-fitted-level-0);\n",
       "  border: var(--sklearn-color-fitted-level-3);\n",
       "}\n",
       "\n",
       ".sk-estimator-doc-link:hover span {\n",
       "  display: block;\n",
       "}\n",
       "\n",
       "/* \"?\"-specific style due to the `<a>` HTML tag */\n",
       "\n",
       "#sk-container-id-1 a.estimator_doc_link {\n",
       "  float: right;\n",
       "  font-size: 1rem;\n",
       "  line-height: 1em;\n",
       "  font-family: monospace;\n",
       "  background-color: var(--sklearn-color-background);\n",
       "  border-radius: 1rem;\n",
       "  height: 1rem;\n",
       "  width: 1rem;\n",
       "  text-decoration: none;\n",
       "  /* unfitted */\n",
       "  color: var(--sklearn-color-unfitted-level-1);\n",
       "  border: var(--sklearn-color-unfitted-level-1) 1pt solid;\n",
       "}\n",
       "\n",
       "#sk-container-id-1 a.estimator_doc_link.fitted {\n",
       "  /* fitted */\n",
       "  border: var(--sklearn-color-fitted-level-1) 1pt solid;\n",
       "  color: var(--sklearn-color-fitted-level-1);\n",
       "}\n",
       "\n",
       "/* On hover */\n",
       "#sk-container-id-1 a.estimator_doc_link:hover {\n",
       "  /* unfitted */\n",
       "  background-color: var(--sklearn-color-unfitted-level-3);\n",
       "  color: var(--sklearn-color-background);\n",
       "  text-decoration: none;\n",
       "}\n",
       "\n",
       "#sk-container-id-1 a.estimator_doc_link.fitted:hover {\n",
       "  /* fitted */\n",
       "  background-color: var(--sklearn-color-fitted-level-3);\n",
       "}\n",
       "</style><div id=\"sk-container-id-1\" class=\"sk-top-container\"><div class=\"sk-text-repr-fallback\"><pre>LogisticRegression(random_state=1, solver=&#x27;liblinear&#x27;)</pre><b>In a Jupyter environment, please rerun this cell to show the HTML representation or trust the notebook. <br />On GitHub, the HTML representation is unable to render, please try loading this page with nbviewer.org.</b></div><div class=\"sk-container\" hidden><div class=\"sk-item\"><div class=\"sk-estimator fitted sk-toggleable\"><input class=\"sk-toggleable__control sk-hidden--visually\" id=\"sk-estimator-id-1\" type=\"checkbox\" checked><label for=\"sk-estimator-id-1\" class=\"sk-toggleable__label fitted sk-toggleable__label-arrow fitted\">&nbsp;&nbsp;LogisticRegression<a class=\"sk-estimator-doc-link fitted\" rel=\"noreferrer\" target=\"_blank\" href=\"https://scikit-learn.org/1.4/modules/generated/sklearn.linear_model.LogisticRegression.html\">?<span>Documentation for LogisticRegression</span></a><span class=\"sk-estimator-doc-link fitted\">i<span>Fitted</span></span></label><div class=\"sk-toggleable__content fitted\"><pre>LogisticRegression(random_state=1, solver=&#x27;liblinear&#x27;)</pre></div> </div></div></div></div>"
      ],
      "text/plain": [
       "LogisticRegression(random_state=1, solver='liblinear')"
      ]
     },
     "execution_count": 85,
     "metadata": {},
     "output_type": "execute_result"
    }
   ],
   "source": [
    "from sklearn.linear_model import LogisticRegression\n",
    "\n",
    "model = LogisticRegression(solver='liblinear', random_state=1)\n",
    "model.fit(X_train, train_y)"
   ]
  },
  {
   "cell_type": "code",
   "execution_count": 86,
   "id": "03aeba94",
   "metadata": {},
   "outputs": [],
   "source": [
    "preds = model.predict_proba(X_val)[:,1]"
   ]
  },
  {
   "cell_type": "code",
   "execution_count": 92,
   "id": "044c0d72",
   "metadata": {},
   "outputs": [
    {
     "data": {
      "text/plain": [
       "array([0.02997078, 0.41319484, 0.83319145, 0.03645908, 0.95035384,\n",
       "       0.06270085, 0.06830072, 0.02997078, 0.24296837])"
      ]
     },
     "execution_count": 92,
     "metadata": {},
     "output_type": "execute_result"
    }
   ],
   "source": [
    "preds[:9]"
   ]
  },
  {
   "cell_type": "code",
   "execution_count": 88,
   "id": "34c4e7f7",
   "metadata": {},
   "outputs": [],
   "source": [
    "pred = (preds>0.5).astype(int).reshape(-1,1)"
   ]
  },
  {
   "cell_type": "code",
   "execution_count": 93,
   "id": "de35a6ca",
   "metadata": {},
   "outputs": [
    {
     "data": {
      "text/plain": [
       "array([[0],\n",
       "       [0],\n",
       "       [1],\n",
       "       [0],\n",
       "       [1],\n",
       "       [0],\n",
       "       [0],\n",
       "       [0],\n",
       "       [0]])"
      ]
     },
     "execution_count": 93,
     "metadata": {},
     "output_type": "execute_result"
    }
   ],
   "source": [
    "pred[:9]"
   ]
  },
  {
   "cell_type": "code",
   "execution_count": 90,
   "id": "99b1b009",
   "metadata": {},
   "outputs": [],
   "source": [
    "val_y = val_X['converted'].values.reshape(-1,1)\n"
   ]
  },
  {
   "cell_type": "code",
   "execution_count": 91,
   "id": "ec69a9b0",
   "metadata": {},
   "outputs": [
    {
     "data": {
      "text/plain": [
       "0.8242055442866801"
      ]
     },
     "execution_count": 91,
     "metadata": {},
     "output_type": "execute_result"
    }
   ],
   "source": [
    "(pred==val_y).mean()\n"
   ]
  },
  {
   "cell_type": "markdown",
   "id": "b2464eb7",
   "metadata": {},
   "source": [
    "so,here we see that 82% of our prediction is right"
   ]
  },
  {
   "cell_type": "markdown",
   "id": "ffb5aeba",
   "metadata": {},
   "source": [
    "# Accuracy"
   ]
  },
  {
   "cell_type": "code",
   "execution_count": 169,
   "id": "74fed727",
   "metadata": {},
   "outputs": [],
   "source": [
    "from sklearn.metrics import accuracy_score"
   ]
  },
  {
   "cell_type": "code",
   "execution_count": 170,
   "id": "17802cc7",
   "metadata": {},
   "outputs": [
    {
     "name": "stdout",
     "output_type": "stream",
     "text": [
      "0.0 0.371\n",
      "0.1 0.674\n",
      "0.2 0.786\n",
      "0.3 0.824\n",
      "0.4 0.837\n",
      "0.5 0.824\n",
      "0.6 0.811\n",
      "0.7 0.795\n",
      "0.8 0.771\n",
      "0.9 0.729\n",
      "1.0 0.629\n"
     ]
    }
   ],
   "source": [
    "thresholds = np.linspace(0,1,11)\n",
    "\n",
    "for i in thresholds:\n",
    "    churn = preds>=i\n",
    "    acc = accuracy_score(val_y,churn)\n",
    "    print(f\"{round(i,1)} {round(acc,3)}\")"
   ]
  },
  {
   "cell_type": "code",
   "execution_count": 171,
   "id": "e068e4ba",
   "metadata": {},
   "outputs": [],
   "source": [
    "thresholds = np.linspace(0,1,21)\n",
    "accs = []\n",
    "\n",
    "for i in thresholds:\n",
    "    churn = preds>=i\n",
    "    acc = accuracy_score(val_y,churn)\n",
    "    accs.append(accs)"
   ]
  },
  {
   "cell_type": "markdown",
   "id": "17636723",
   "metadata": {},
   "source": [
    "# Confusion Table"
   ]
  },
  {
   "cell_type": "code",
   "execution_count": 172,
   "id": "ad9a926e",
   "metadata": {},
   "outputs": [],
   "source": [
    "t = 0.4\n",
    "\n",
    "predict_convert = (preds>=t).reshape(-1,1)\n",
    "predict_no_convert = (preds<t).reshape(-1,1)\n",
    "\n",
    "actual_convert = (val_y==1)\n",
    "actual_no_convert = (val_y==0)\n",
    "\n",
    "true_positive = (predict_convert & actual_convert).sum()\n",
    "true_negative = (predict_no_convert & actual_no_convert).sum()\n",
    "\n",
    "false_positive = (predict_convert & actual_no_convert).sum()\n",
    "false_negative = (predict_no_convert & actual_convert).sum()"
   ]
  },
  {
   "cell_type": "code",
   "execution_count": 173,
   "id": "bc2b2c13",
   "metadata": {},
   "outputs": [
    {
     "data": {
      "text/plain": [
       "array([[804, 127],\n",
       "       [114, 434]])"
      ]
     },
     "execution_count": 173,
     "metadata": {},
     "output_type": "execute_result"
    }
   ],
   "source": [
    "confussion_table = np.array([[true_negative, false_positive],[false_negative,true_positive]])\n",
    "confussion_table"
   ]
  },
  {
   "cell_type": "code",
   "execution_count": 174,
   "id": "c011f048",
   "metadata": {},
   "outputs": [
    {
     "data": {
      "text/plain": [
       "array([[0.54361055, 0.08586883],\n",
       "       [0.07707911, 0.29344151]])"
      ]
     },
     "execution_count": 174,
     "metadata": {},
     "output_type": "execute_result"
    }
   ],
   "source": [
    "confussion_table/confussion_table.sum()"
   ]
  },
  {
   "cell_type": "markdown",
   "id": "63e1e93e",
   "metadata": {},
   "source": [
    "# Precision and recall"
   ]
  },
  {
   "cell_type": "code",
   "execution_count": 175,
   "id": "77c02796",
   "metadata": {},
   "outputs": [
    {
     "name": "stdout",
     "output_type": "stream",
     "text": [
      "Percent of correct predictions among leads predicted as converted is 77.0%\n"
     ]
    }
   ],
   "source": [
    "P = true_positive/(true_positive+false_positive)\n",
    "print(f'Percent of correct predictions among leads predicted as converted is {round(P,2)*100}%')"
   ]
  },
  {
   "cell_type": "code",
   "execution_count": 176,
   "id": "12485333",
   "metadata": {},
   "outputs": [
    {
     "name": "stdout",
     "output_type": "stream",
     "text": [
      "Percent of correct predictions among actual converteds is 79.0%\n"
     ]
    }
   ],
   "source": [
    "R = true_positive/(true_positive+false_negative)\n",
    "print(f'Percent of correct predictions among actual converteds is {round(R,2)*100}%')"
   ]
  },
  {
   "cell_type": "markdown",
   "id": "4e2dad80",
   "metadata": {},
   "source": [
    "True positive rate and false positive rate"
   ]
  },
  {
   "cell_type": "code",
   "execution_count": 177,
   "id": "88ecaab5",
   "metadata": {},
   "outputs": [
    {
     "name": "stdout",
     "output_type": "stream",
     "text": [
      "The fraction of true positives among all positive examples: 0.791970802919708\n",
      "The fraction of false positives among all negative examples: 0.1364124597207304\n"
     ]
    }
   ],
   "source": [
    "tpr = true_positive/(true_positive+false_negative)\n",
    "fpr = false_positive/(true_negative+false_positive)\n",
    "print(f'The fraction of true positives among all positive examples: {tpr}\\nThe fraction of false positives among all negative examples: {fpr}')"
   ]
  },
  {
   "cell_type": "markdown",
   "id": "2e7d3ee4",
   "metadata": {},
   "source": [
    "The fraction of true positives among all converted leads: the larger TPR is, the better, The fraction of false positives among all non-converted leads: the smaller the FPR is, the better."
   ]
  },
  {
   "cell_type": "code",
   "execution_count": 178,
   "id": "c3bebf8b",
   "metadata": {},
   "outputs": [],
   "source": [
    "scores = []\n",
    "\n",
    "thresholds = np.linspace(0,1,101)\n",
    "\n",
    "for t in thresholds:\n",
    "    tp = ((preds>=t).reshape(-1,1)&(val_y==1)).sum()\n",
    "    fp = ((preds>=t).reshape(-1,1)&(val_y==0)).sum()\n",
    "    fn = ((preds<t).reshape(-1,1)&(val_y==1)).sum()\n",
    "    tn = ((preds<t).reshape(-1,1)&(val_y==0)).sum()\n",
    "    scores.append((t,tp,fp,fn,tn))"
   ]
  },
  {
   "cell_type": "code",
   "execution_count": 179,
   "id": "ccc0fdd9",
   "metadata": {},
   "outputs": [
    {
     "data": {
      "text/html": [
       "<div>\n",
       "<style scoped>\n",
       "    .dataframe tbody tr th:only-of-type {\n",
       "        vertical-align: middle;\n",
       "    }\n",
       "\n",
       "    .dataframe tbody tr th {\n",
       "        vertical-align: top;\n",
       "    }\n",
       "\n",
       "    .dataframe thead th {\n",
       "        text-align: right;\n",
       "    }\n",
       "</style>\n",
       "<table border=\"1\" class=\"dataframe\">\n",
       "  <thead>\n",
       "    <tr style=\"text-align: right;\">\n",
       "      <th></th>\n",
       "      <th>thresholds</th>\n",
       "      <th>tp</th>\n",
       "      <th>fp</th>\n",
       "      <th>fn</th>\n",
       "      <th>tn</th>\n",
       "    </tr>\n",
       "  </thead>\n",
       "  <tbody>\n",
       "    <tr>\n",
       "      <th>0</th>\n",
       "      <td>0.0</td>\n",
       "      <td>548</td>\n",
       "      <td>931</td>\n",
       "      <td>0</td>\n",
       "      <td>0</td>\n",
       "    </tr>\n",
       "    <tr>\n",
       "      <th>10</th>\n",
       "      <td>0.1</td>\n",
       "      <td>532</td>\n",
       "      <td>466</td>\n",
       "      <td>16</td>\n",
       "      <td>465</td>\n",
       "    </tr>\n",
       "    <tr>\n",
       "      <th>20</th>\n",
       "      <td>0.2</td>\n",
       "      <td>506</td>\n",
       "      <td>275</td>\n",
       "      <td>42</td>\n",
       "      <td>656</td>\n",
       "    </tr>\n",
       "    <tr>\n",
       "      <th>30</th>\n",
       "      <td>0.3</td>\n",
       "      <td>466</td>\n",
       "      <td>179</td>\n",
       "      <td>82</td>\n",
       "      <td>752</td>\n",
       "    </tr>\n",
       "    <tr>\n",
       "      <th>40</th>\n",
       "      <td>0.4</td>\n",
       "      <td>434</td>\n",
       "      <td>127</td>\n",
       "      <td>114</td>\n",
       "      <td>804</td>\n",
       "    </tr>\n",
       "    <tr>\n",
       "      <th>50</th>\n",
       "      <td>0.5</td>\n",
       "      <td>389</td>\n",
       "      <td>101</td>\n",
       "      <td>159</td>\n",
       "      <td>830</td>\n",
       "    </tr>\n",
       "    <tr>\n",
       "      <th>60</th>\n",
       "      <td>0.6</td>\n",
       "      <td>343</td>\n",
       "      <td>75</td>\n",
       "      <td>205</td>\n",
       "      <td>856</td>\n",
       "    </tr>\n",
       "    <tr>\n",
       "      <th>70</th>\n",
       "      <td>0.7</td>\n",
       "      <td>299</td>\n",
       "      <td>54</td>\n",
       "      <td>249</td>\n",
       "      <td>877</td>\n",
       "    </tr>\n",
       "    <tr>\n",
       "      <th>80</th>\n",
       "      <td>0.8</td>\n",
       "      <td>240</td>\n",
       "      <td>31</td>\n",
       "      <td>308</td>\n",
       "      <td>900</td>\n",
       "    </tr>\n",
       "    <tr>\n",
       "      <th>90</th>\n",
       "      <td>0.9</td>\n",
       "      <td>159</td>\n",
       "      <td>12</td>\n",
       "      <td>389</td>\n",
       "      <td>919</td>\n",
       "    </tr>\n",
       "    <tr>\n",
       "      <th>100</th>\n",
       "      <td>1.0</td>\n",
       "      <td>0</td>\n",
       "      <td>0</td>\n",
       "      <td>548</td>\n",
       "      <td>931</td>\n",
       "    </tr>\n",
       "  </tbody>\n",
       "</table>\n",
       "</div>"
      ],
      "text/plain": [
       "     thresholds   tp   fp   fn   tn\n",
       "0           0.0  548  931    0    0\n",
       "10          0.1  532  466   16  465\n",
       "20          0.2  506  275   42  656\n",
       "30          0.3  466  179   82  752\n",
       "40          0.4  434  127  114  804\n",
       "50          0.5  389  101  159  830\n",
       "60          0.6  343   75  205  856\n",
       "70          0.7  299   54  249  877\n",
       "80          0.8  240   31  308  900\n",
       "90          0.9  159   12  389  919\n",
       "100         1.0    0    0  548  931"
      ]
     },
     "execution_count": 179,
     "metadata": {},
     "output_type": "execute_result"
    }
   ],
   "source": [
    "df_scores = pd.DataFrame(scores)\n",
    "df_scores.columns = ['thresholds','tp','fp','fn','tn']\n",
    "df_scores[::10]"
   ]
  },
  {
   "cell_type": "code",
   "execution_count": 180,
   "id": "619e8a2a",
   "metadata": {},
   "outputs": [
    {
     "data": {
      "text/html": [
       "<div>\n",
       "<style scoped>\n",
       "    .dataframe tbody tr th:only-of-type {\n",
       "        vertical-align: middle;\n",
       "    }\n",
       "\n",
       "    .dataframe tbody tr th {\n",
       "        vertical-align: top;\n",
       "    }\n",
       "\n",
       "    .dataframe thead th {\n",
       "        text-align: right;\n",
       "    }\n",
       "</style>\n",
       "<table border=\"1\" class=\"dataframe\">\n",
       "  <thead>\n",
       "    <tr style=\"text-align: right;\">\n",
       "      <th></th>\n",
       "      <th>thresholds</th>\n",
       "      <th>tp</th>\n",
       "      <th>fp</th>\n",
       "      <th>fn</th>\n",
       "      <th>tn</th>\n",
       "      <th>tpr</th>\n",
       "      <th>fpr</th>\n",
       "    </tr>\n",
       "  </thead>\n",
       "  <tbody>\n",
       "    <tr>\n",
       "      <th>0</th>\n",
       "      <td>0.0</td>\n",
       "      <td>548</td>\n",
       "      <td>931</td>\n",
       "      <td>0</td>\n",
       "      <td>0</td>\n",
       "      <td>1.000000</td>\n",
       "      <td>1.000000</td>\n",
       "    </tr>\n",
       "    <tr>\n",
       "      <th>10</th>\n",
       "      <td>0.1</td>\n",
       "      <td>532</td>\n",
       "      <td>466</td>\n",
       "      <td>16</td>\n",
       "      <td>465</td>\n",
       "      <td>0.970803</td>\n",
       "      <td>0.500537</td>\n",
       "    </tr>\n",
       "    <tr>\n",
       "      <th>20</th>\n",
       "      <td>0.2</td>\n",
       "      <td>506</td>\n",
       "      <td>275</td>\n",
       "      <td>42</td>\n",
       "      <td>656</td>\n",
       "      <td>0.923358</td>\n",
       "      <td>0.295381</td>\n",
       "    </tr>\n",
       "    <tr>\n",
       "      <th>30</th>\n",
       "      <td>0.3</td>\n",
       "      <td>466</td>\n",
       "      <td>179</td>\n",
       "      <td>82</td>\n",
       "      <td>752</td>\n",
       "      <td>0.850365</td>\n",
       "      <td>0.192266</td>\n",
       "    </tr>\n",
       "    <tr>\n",
       "      <th>40</th>\n",
       "      <td>0.4</td>\n",
       "      <td>434</td>\n",
       "      <td>127</td>\n",
       "      <td>114</td>\n",
       "      <td>804</td>\n",
       "      <td>0.791971</td>\n",
       "      <td>0.136412</td>\n",
       "    </tr>\n",
       "    <tr>\n",
       "      <th>50</th>\n",
       "      <td>0.5</td>\n",
       "      <td>389</td>\n",
       "      <td>101</td>\n",
       "      <td>159</td>\n",
       "      <td>830</td>\n",
       "      <td>0.709854</td>\n",
       "      <td>0.108485</td>\n",
       "    </tr>\n",
       "    <tr>\n",
       "      <th>60</th>\n",
       "      <td>0.6</td>\n",
       "      <td>343</td>\n",
       "      <td>75</td>\n",
       "      <td>205</td>\n",
       "      <td>856</td>\n",
       "      <td>0.625912</td>\n",
       "      <td>0.080559</td>\n",
       "    </tr>\n",
       "    <tr>\n",
       "      <th>70</th>\n",
       "      <td>0.7</td>\n",
       "      <td>299</td>\n",
       "      <td>54</td>\n",
       "      <td>249</td>\n",
       "      <td>877</td>\n",
       "      <td>0.545620</td>\n",
       "      <td>0.058002</td>\n",
       "    </tr>\n",
       "    <tr>\n",
       "      <th>80</th>\n",
       "      <td>0.8</td>\n",
       "      <td>240</td>\n",
       "      <td>31</td>\n",
       "      <td>308</td>\n",
       "      <td>900</td>\n",
       "      <td>0.437956</td>\n",
       "      <td>0.033298</td>\n",
       "    </tr>\n",
       "    <tr>\n",
       "      <th>90</th>\n",
       "      <td>0.9</td>\n",
       "      <td>159</td>\n",
       "      <td>12</td>\n",
       "      <td>389</td>\n",
       "      <td>919</td>\n",
       "      <td>0.290146</td>\n",
       "      <td>0.012889</td>\n",
       "    </tr>\n",
       "    <tr>\n",
       "      <th>100</th>\n",
       "      <td>1.0</td>\n",
       "      <td>0</td>\n",
       "      <td>0</td>\n",
       "      <td>548</td>\n",
       "      <td>931</td>\n",
       "      <td>0.000000</td>\n",
       "      <td>0.000000</td>\n",
       "    </tr>\n",
       "  </tbody>\n",
       "</table>\n",
       "</div>"
      ],
      "text/plain": [
       "     thresholds   tp   fp   fn   tn       tpr       fpr\n",
       "0           0.0  548  931    0    0  1.000000  1.000000\n",
       "10          0.1  532  466   16  465  0.970803  0.500537\n",
       "20          0.2  506  275   42  656  0.923358  0.295381\n",
       "30          0.3  466  179   82  752  0.850365  0.192266\n",
       "40          0.4  434  127  114  804  0.791971  0.136412\n",
       "50          0.5  389  101  159  830  0.709854  0.108485\n",
       "60          0.6  343   75  205  856  0.625912  0.080559\n",
       "70          0.7  299   54  249  877  0.545620  0.058002\n",
       "80          0.8  240   31  308  900  0.437956  0.033298\n",
       "90          0.9  159   12  389  919  0.290146  0.012889\n",
       "100         1.0    0    0  548  931  0.000000  0.000000"
      ]
     },
     "execution_count": 180,
     "metadata": {},
     "output_type": "execute_result"
    }
   ],
   "source": [
    "df_scores['tpr'] = df_scores.tp / (df_scores.tp+df_scores.fn)\n",
    "df_scores['fpr'] = df_scores.fp / (df_scores.fp+df_scores.tn)\n",
    "df_scores[::10]"
   ]
  },
  {
   "cell_type": "code",
   "execution_count": 181,
   "id": "60c9e095",
   "metadata": {},
   "outputs": [
    {
     "data": {
      "image/png": "[encoded data removed]",
      "text/plain": [
       "<Figure size 640x480 with 1 Axes>"
      ]
     },
     "metadata": {},
     "output_type": "display_data"
    }
   ],
   "source": [
    "plt.plot(df_scores.thresholds, df_scores.tpr, label='TPR')\n",
    "plt.plot(df_scores.thresholds, df_scores.fpr, label='FPR')\n",
    "plt.xlabel('Thresholds')\n",
    "plt.title('TPR and FPR')\n",
    "plt.legend()\n",
    "plt.show()"
   ]
  },
  {
   "cell_type": "markdown",
   "id": "ee1e6115",
   "metadata": {},
   "source": [
    "The TPR and FPR for our model evaluated at different thresholds."
   ]
  },
  {
   "cell_type": "markdown",
   "id": "25ead02d",
   "metadata": {},
   "source": [
    "# ROC curve"
   ]
  },
  {
   "cell_type": "markdown",
   "id": "0b8980dd",
   "metadata": {},
   "source": [
    "The ROC curve shows the relationship between the FPR and TPR of a model.\n",
    "\n"
   ]
  },
  {
   "cell_type": "code",
   "execution_count": 182,
   "id": "35af24ef",
   "metadata": {},
   "outputs": [],
   "source": [
    "from sklearn.metrics import roc_curve"
   ]
  },
  {
   "cell_type": "code",
   "execution_count": 183,
   "id": "425e3da6",
   "metadata": {},
   "outputs": [],
   "source": [
    "fpr, tpr, thresholds = roc_curve(val_y, preds.reshape(-1,1))"
   ]
  },
  {
   "cell_type": "code",
   "execution_count": 184,
   "id": "90c43ccd",
   "metadata": {},
   "outputs": [
    {
     "data": {
      "image/png": "[encoded data removed]",
      "text/plain": [
       "<Figure size 500x500 with 1 Axes>"
      ]
     },
     "metadata": {},
     "output_type": "display_data"
    }
   ],
   "source": [
    "plt.figure(figsize=(5,5))\n",
    "plt.plot(fpr,tpr)\n",
    "plt.plot([0,1],[0,1], 'b--')\n",
    "plt.show()"
   ]
  },
  {
   "cell_type": "markdown",
   "id": "fc850995",
   "metadata": {},
   "source": [
    "The baseline makes it easier to see how far the ROC curve of our model is from that of a random model. The top-left corner(0,1) is the \"ideal spot\": the closer our models get to it, the better.\n",
    "\n"
   ]
  },
  {
   "cell_type": "code",
   "execution_count": 198,
   "id": "fd191d6b",
   "metadata": {},
   "outputs": [],
   "source": [
    "test_dict = test_X[cat+numerical].to_dict(orient='records')"
   ]
  },
  {
   "cell_type": "code",
   "execution_count": 199,
   "id": "12f106d9",
   "metadata": {},
   "outputs": [
    {
     "data": {
      "text/plain": [
       "{'what_is_your_current_occupation': 'Unemployed',\n",
       " 'last_activity': 'Email Link Clicked',\n",
       " 'lead_profile': 'Potential Lead',\n",
       " 'last_notable_activity': 'Modified',\n",
       " 'lead_source': 'Reference',\n",
       " 'what_matters_most_to_you_in_choosing_a_course': 'Better Career Prospects',\n",
       " 'lead_origin': 'Lead Add Form',\n",
       " 'specialization': 'Services Excellence',\n",
       " 'do_not_email': 'No',\n",
       " 'totalvisits': 0.0,\n",
       " 'total_time_spent_on_website': 0,\n",
       " 'page_views_per_visit': 0.0}"
      ]
     },
     "execution_count": 199,
     "metadata": {},
     "output_type": "execute_result"
    }
   ],
   "source": [
    "test_dict[0]"
   ]
  },
  {
   "cell_type": "code",
   "execution_count": 200,
   "id": "8cde47cd",
   "metadata": {},
   "outputs": [
    {
     "data": {
      "text/plain": [
       "array([1., 0., 0., 0., 0., 1., 0., 0., 0., 0., 0., 0., 0., 0., 0., 0., 0.,\n",
       "       0., 0., 0., 0., 0., 0., 0., 0., 0., 1., 0., 0., 0., 0., 0., 0., 0.,\n",
       "       0., 0., 1., 0., 0., 0., 0., 0., 1., 0., 0., 0., 0., 0., 0., 0., 0.,\n",
       "       0., 0., 0., 0., 1., 0., 0., 0., 0., 0., 0., 0., 0., 0., 0., 0., 0.,\n",
       "       0., 0., 0., 0., 0., 0., 0., 0., 0., 0., 0., 0., 0., 1., 0., 0., 0.,\n",
       "       0., 0., 0., 0., 0., 1., 0., 1., 0.])"
      ]
     },
     "execution_count": 200,
     "metadata": {},
     "output_type": "execute_result"
    }
   ],
   "source": [
    "X_test = dv.transform(test_dict)\n",
    "X_test[0]"
   ]
  },
  {
   "cell_type": "code",
   "execution_count": 202,
   "id": "e7c61f6f",
   "metadata": {},
   "outputs": [],
   "source": [
    "preds_test = model.predict_proba(X_test)"
   ]
  },
  {
   "cell_type": "code",
   "execution_count": 203,
   "id": "1edf9873",
   "metadata": {},
   "outputs": [],
   "source": [
    "preds_test = preds_test[:,1]"
   ]
  },
  {
   "cell_type": "code",
   "execution_count": 204,
   "id": "f90825b8",
   "metadata": {},
   "outputs": [
    {
     "data": {
      "text/plain": [
       "array([0.91357478, 0.94192033, 0.42643078, 0.13098676, 0.82926676])"
      ]
     },
     "execution_count": 204,
     "metadata": {},
     "output_type": "execute_result"
    }
   ],
   "source": [
    "preds_test[:5]"
   ]
  },
  {
   "cell_type": "code",
   "execution_count": 205,
   "id": "2c736e44",
   "metadata": {},
   "outputs": [],
   "source": [
    "pred_test =  (preds_test>0.5).astype(int).reshape(-1,1)"
   ]
  },
  {
   "cell_type": "code",
   "execution_count": 206,
   "id": "8d2c9f56",
   "metadata": {},
   "outputs": [
    {
     "data": {
      "text/plain": [
       "array([[1],\n",
       "       [1],\n",
       "       [0],\n",
       "       [0],\n",
       "       [1]])"
      ]
     },
     "execution_count": 206,
     "metadata": {},
     "output_type": "execute_result"
    }
   ],
   "source": [
    "pred_test[:5]"
   ]
  },
  {
   "cell_type": "code",
   "execution_count": 207,
   "id": "598a6d9f",
   "metadata": {},
   "outputs": [
    {
     "data": {
      "text/plain": [
       "0.8392857142857143"
      ]
     },
     "execution_count": 207,
     "metadata": {},
     "output_type": "execute_result"
    }
   ],
   "source": [
    "(pred_test==test_y).mean()"
   ]
  },
  {
   "cell_type": "markdown",
   "id": "5ffc3a51",
   "metadata": {},
   "source": [
    "Here, there is also 84% accuray of our model"
   ]
  },
  {
   "cell_type": "code",
   "execution_count": 208,
   "id": "7fbf51df",
   "metadata": {},
   "outputs": [],
   "source": [
    "t = 0.4\n",
    "\n",
    "predict_convert_t = (preds_test>=t).reshape(-1,1)\n",
    "predict_no_convert_t = (preds_test<t).reshape(-1,1)\n",
    "\n",
    "actual_convert_t = (test_y==1)\n",
    "actual_no_convert_t = (test_y==0)\n",
    "\n",
    "true_positive_t = (predict_convert_t & actual_convert_t).sum()\n",
    "true_negative_t = (predict_no_convert_t & actual_no_convert_t).sum()\n",
    "\n",
    "false_positive_t = (predict_convert_t & actual_no_convert_t).sum()\n",
    "false_negative_t = (predict_no_convert_t & actual_convert_t).sum()"
   ]
  },
  {
   "cell_type": "code",
   "execution_count": 209,
   "id": "c0cc09ff",
   "metadata": {},
   "outputs": [
    {
     "name": "stdout",
     "output_type": "stream",
     "text": [
      "Confussion Table:\n",
      "[[949 170]\n",
      " [138 591]]\n"
     ]
    }
   ],
   "source": [
    "confussion_table_t = np.array([[true_negative_t, false_positive_t],[false_negative_t,true_positive_t]])\n",
    "print(f'Confussion Table:\\n{confussion_table_t}')"
   ]
  },
  {
   "cell_type": "code",
   "execution_count": 210,
   "id": "2820a391",
   "metadata": {},
   "outputs": [
    {
     "data": {
      "text/plain": [
       "array([[0.51352814, 0.09199134],\n",
       "       [0.07467532, 0.31980519]])"
      ]
     },
     "execution_count": 210,
     "metadata": {},
     "output_type": "execute_result"
    }
   ],
   "source": [
    "confussion_table_t/confussion_table_t.sum()"
   ]
  },
  {
   "cell_type": "code",
   "execution_count": 212,
   "id": "48929d2c",
   "metadata": {},
   "outputs": [
    {
     "name": "stdout",
     "output_type": "stream",
     "text": [
      "Precision: 0.7766097240473062\n",
      "Recall: 0.8106995884773662\n"
     ]
    }
   ],
   "source": [
    "P_t = true_positive_t/(true_positive_t+false_positive_t)\n",
    "R_t = true_positive_t/(true_positive_t+false_negative_t)\n",
    "print(f'Precision: {P_t}\\nRecall: {R_t}')"
   ]
  },
  {
   "cell_type": "code",
   "execution_count": 214,
   "id": "e34f1a35",
   "metadata": {},
   "outputs": [],
   "source": [
    "fpr_t, tpr_t, thresholds_t = roc_curve(test_y, preds_test.reshape(-1,1))"
   ]
  },
  {
   "cell_type": "code",
   "execution_count": 215,
   "id": "5f821874",
   "metadata": {},
   "outputs": [
    {
     "data": {
      "image/png": "[encoded data removed]",
      "text/plain": [
       "<Figure size 500x500 with 1 Axes>"
      ]
     },
     "metadata": {},
     "output_type": "display_data"
    }
   ],
   "source": [
    "plt.figure(figsize=(5,5))\n",
    "plt.plot(fpr_t,tpr_t)\n",
    "plt.plot([0,1],[0,1], 'b--')\n",
    "plt.show()"
   ]
  },
  {
   "cell_type": "code",
   "execution_count": null,
   "id": "3144c380",
   "metadata": {},
   "outputs": [],
   "source": []
  }
 ],
 "metadata": {
  "kernelspec": {
   "display_name": "Python 3 (ipykernel)",
   "language": "python",
   "name": "python3"
  },
  "language_info": {
   "codemirror_mode": {
    "name": "ipython",
    "version": 3
   },
   "file_extension": ".py",
   "mimetype": "text/x-python",
   "name": "python",
   "nbconvert_exporter": "python",
   "pygments_lexer": "ipython3",
   "version": "3.11.5"
  }
 },
 "nbformat": 4,
 "nbformat_minor": 5
}
